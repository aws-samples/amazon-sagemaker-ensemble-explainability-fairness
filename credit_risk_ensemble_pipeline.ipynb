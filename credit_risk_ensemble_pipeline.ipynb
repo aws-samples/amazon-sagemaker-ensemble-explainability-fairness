{
 "cells": [
  {
   "cell_type": "markdown",
   "metadata": {},
   "source": [
    "# Explainability of ensemble models with SageMaker Clarify"
   ]
  },
  {
   "cell_type": "markdown",
   "metadata": {},
   "source": [
    "1. [Overview](#Overview)\n",
    "1. [Prerequisites and Data](#Prerequisites-and-Data)\n",
    "    1. [Initialize SageMaker](#Initialize-SageMaker)\n",
    "    1. [Download data](#Download-data)\n",
    "    1. [Loading the data: German credit (Update) Dataset](#Loading-the-data:-German-credit-Dataset) \n",
    "    1. [Data inspection](#Data-inspection) \n",
    "    1. [Data preprocessing Model and upload to S3](#Preprocess-and-Upload-Training-Data) \n",
    "1. [Train XGBoost Model](#Train-XGBoost-Model)\n",
    "    1. [Train Model](#Train-Model)\n",
    "1. [Train TensorFlow Model](#Train-TensorFlow-Model)\n",
    "    1. [Train Model](#Train-Model)\n",
    "1. [Deploy Ensemble Model](#Train-XGBoost-Model)\n",
    "    1. [Create Model Artifact](#Create-Model-Artifact)\n",
    "    1. [Create Inference Handler Script ](#Create-Inference-Handler-Script)\n",
    "    1. [Create Ensemble Container](#Create-Ensemble-Container)\n",
    "    1. [Deploy Model](#Deploy-Model)\n",
    "1. [Amazon SageMaker Clarify](#Amazon-SageMaker-Clarify)\n",
    "    1. [Explaining Predictions](#Explaining-Predictions)\n",
    "        1. [Viewing the Explainability Report](#Viewing-the-Explainability-Report)\n",
    "        2. [Explaining individual bad credit prediction example](#Explaining-individual-prediction)\n",
    "    2. [Understanding Bias](#Bias-Detection)\n",
    "        1. [Pre-training bias metrics](#pre-training)\n",
    "        2. [Post-training bias metrics](#post-training)\n",
    "1. [Clean Up](#Clean-Up)\n",
    "\n",
    "## Overview\n",
    "Amazon SageMaker helps data scientists and developers to prepare, build, train, and deploy high-quality machine learning (ML) models quickly by bringing together a broad set of capabilities purpose-built for ML.\n",
    "\n",
    "[Amazon SageMaker Clarify](https://aws.amazon.com/sagemaker/clarify/) helps improve your machine learning models by detecting potential bias and helping explain how these models make predictions. The fairness and explainability functionality provided by SageMaker Clarify takes a step towards enabling AWS customers to build trustworthy and understandable machine learning models. \n",
    "\n",
    "Amazon SageMaker provides pre-made images for machine and deep learning frameworks for supported frameworks such as Scikit-Learn, TensorFlow, PyTorch, MXNet, or Chainer. These are preloaded with the corresponding framework and some additional Python packages, such as Pandas and NumPy, so you can write your own code for model training.See [here](https://docs.aws.amazon.com/sagemaker/latest/dg/algorithms-choose.html#supported-frameworks-benefits) for more information.\n",
    "Amazon SageMaker [automatic model tuning](https://docs.aws.amazon.com/sagemaker/latest/dg/automatic-model-tuning.html), also known as hyperparameter tuning, finds the best version of a model by running many training jobs on your dataset using the algorithm and ranges of hyperparameters that you specify. It then chooses the hyperparameter values that result in a model that performs the best, as measured by a metric that you choose. \n",
    "\n",
    "Amazon SageMaker supports Bring your own model/container for inference. Custom Elastic Container Registry (ECR) images deployed in Amazon SageMaker are expected to adhere to the basic contract described in [Use Your Own Inference Code with Hosting Services](https://docs.aws.amazon.com/sagemaker/latest/dg/your-algorithms-inference-code.html) that govern how SageMaker interacts with a Docker container that runs your own inference code. \n",
    "[Multi Model Server](https://github.com/awslabs/multi-model-server) is an open source framework for serving machine learning models that can be installed in containers to provide the HTTP front end and model management capabilities required by multi-model endpoints to host multiple models within a single container. The [SageMaker inference toolkit](https://github.com/aws/sagemaker-inference-toolkit) is an implementation for the multi-model server (MMS) that creates endpoints that can be deployed in SageMaker. \n",
    "\n",
    "[Amazon SageMaker Studio](https://aws.amazon.com/sagemaker/studio/) provides a single, web-based visual interface where you can perform all ML development activities including notebooks, experiment management, automatic model creation, debugging, and model and data drift detection.\n",
    "\n",
    "In this SageMaker Studio notebook, we highlight how you can use SageMaker to train models in script-mode with automatic model tuning, host them as an ensemble model in a single custom container for inference, and provide bias detection and explainability to analyze data and understand prediction outcomes from each component of the ensemble model.\n",
    "This sample notebook walks you through:  \n",
    "\n",
    "1. Download and explore credit risk dataset - [South German Credit (UPDATE) Data Set](https://archive.ics.uci.edu/ml/datasets/South+German+Credit+%28UPDATE%29)\n",
    "2. Preprocessing data with sklearn on the dataset (model 1)\n",
    "3. Training GBM model with XGboost Auto Tuner on the dataset (model 2)\n",
    "4. Training Tensorflow 2 model with Tensorflow Auto Tuner on the dataset (model 3)\n",
    "5. Biuld a single ensemble custom inference container to produce multiple model outcomes per instance\n",
    "6. Hosting and scoring the single ensemble model (Optional)\n",
    "7. Single SageMaker Clarify job to provide bias metrics and Kernel SHAP values for each component of the ensemble model on training and test datasets.\n",
    "\n",
    "![Credit risk explainability with ensemble model inference](Credit_risk_prediction_ensemble_explainability_bias_detection.jpg)"
   ]
  },
  {
   "cell_type": "markdown",
   "metadata": {},
   "source": [
    "## Prerequisites and Data\n",
    "### Initialize SageMaker"
   ]
  },
  {
   "cell_type": "code",
   "execution_count": null,
   "metadata": {},
   "outputs": [],
   "source": [
    "import sys\n",
    "import IPython\n",
    "install_needed = True  # Set to True to upgrade\n",
    "if install_needed:\n",
    "    print(\"installing deps and restarting kernel\")\n",
    "    !{sys.executable} -m pip install -U sagemaker\n",
    "    IPython.Application.instance().kernel.do_shutdown(True)"
   ]
  },
  {
   "cell_type": "code",
   "execution_count": 1,
   "metadata": {},
   "outputs": [],
   "source": [
    "import sagemaker\n",
    "from sagemaker import Session\n",
    "session = Session()\n",
    "bucket = session.default_bucket()\n",
    "prefix = 'sagemaker/sagemaker-clarify-credit-risk-ensemble-model'\n",
    "region = session.boto_region_name\n",
    "# Define IAM role\n",
    "from sagemaker import get_execution_role\n",
    "import pandas as pd\n",
    "import numpy as np\n",
    "import urllib\n",
    "import os\n",
    "\n",
    "role = get_execution_role()"
   ]
  },
  {
   "cell_type": "markdown",
   "metadata": {},
   "source": [
    "### Download data\n",
    "Data Source: [https://archive.ics.uci.edu/ml/datasets/South+German+Credit+%28UPDATE%29)\n",
    "\n",
    "First,  __download__ the data and save it in the local folder\n",
    "\n",
    "$^{[2]}Ulrike GrÃ¶mping\n",
    "Beuth University of Applied Sciences Berlin\n",
    "Website with contact information: https://prof.beuth-hochschule.de/groemping/."
   ]
  },
  {
   "cell_type": "code",
   "execution_count": 2,
   "metadata": {},
   "outputs": [],
   "source": [
    "credit_columns = [\"status\",\"duration\",\"credit_history\",\"purpose\",\"amount\",\"savings\",\"employment_duration\",\"installment_rate\",\"personal_status_sex\",\"other_debtors\",\"present_residence\",\"property\",\"age\",\"other_installment_plans\",\"housing\",\"number_credits\",\"job\",\"people_liable\",\"telephone\",\"foreign_worker\",\"credit_risk\"]\n"
   ]
  },
  {
   "cell_type": "markdown",
   "metadata": {},
   "source": [
    "$`laufkont = status`\n",
    "                                               \n",
    " 1 : no checking account                       \n",
    " 2 : ... < 0 DM                                \n",
    " 3 : 0<= ... < 200 DM                          \n",
    " 4 : ... >= 200 DM / salary for at least 1 year\n",
    "\n",
    "$`laufzeit = duration`\n",
    "     \n",
    "\n",
    "$`moral = credit_history`\n",
    "                                                \n",
    " 0 : delay in paying off in the past            \n",
    " 1 : critical account/other credits elsewhere   \n",
    " 2 : no credits taken/all credits paid back duly\n",
    " 3 : existing credits paid back duly till now   \n",
    " 4 : all credits at this bank paid back duly    \n",
    "\n",
    "$`verw = purpose`\n",
    "                        \n",
    " 0 : others             \n",
    " 1 : car (new)          \n",
    " 2 : car (used)         \n",
    " 3 : furniture/equipment\n",
    " 4 : radio/television   \n",
    " 5 : domestic appliances\n",
    " 6 : repairs            \n",
    " 7 : education          \n",
    " 8 : vacation           \n",
    " 9 : retraining         \n",
    " 10 : business          \n",
    "\n",
    "$`hoehe = amount`\n",
    "     \n",
    "\n",
    "$`sparkont = savings`\n",
    "                               \n",
    " 1 : unknown/no savings account\n",
    " 2 : ... <  100 DM             \n",
    " 3 : 100 <= ... <  500 DM      \n",
    " 4 : 500 <= ... < 1000 DM      \n",
    " 5 : ... >= 1000 DM            \n",
    "\n",
    "$`beszeit = employment_duration`\n",
    "                     \n",
    " 1 : unemployed      \n",
    " 2 : < 1 yr          \n",
    " 3 : 1 <= ... < 4 yrs\n",
    " 4 : 4 <= ... < 7 yrs\n",
    " 5 : >= 7 yrs        \n",
    "\n",
    "$`rate = installment_rate`\n",
    "                   \n",
    " 1 : >= 35         \n",
    " 2 : 25 <= ... < 35\n",
    " 3 : 20 <= ... < 25\n",
    " 4 : < 20          \n",
    "\n",
    "$`famges = personal_status_sex`\n",
    "                                         \n",
    " 1 : male : divorced/separated           \n",
    " 2 : female : non-single or male : single\n",
    " 3 : male : married/widowed              \n",
    " 4 : female : single                     \n",
    "\n",
    "$`buerge = other_debtors`\n",
    "                 \n",
    " 1 : none        \n",
    " 2 : co-applicant\n",
    " 3 : guarantor   \n",
    "\n",
    "$`wohnzeit = present_residence`\n",
    "                     \n",
    " 1 : < 1 yr          \n",
    " 2 : 1 <= ... < 4 yrs\n",
    " 3 : 4 <= ... < 7 yrs\n",
    " 4 : >= 7 yrs        \n",
    "\n",
    "$`verm = property`\n",
    "                                              \n",
    " 1 : unknown / no property                    \n",
    " 2 : car or other                             \n",
    " 3 : building soc. savings agr./life insurance\n",
    " 4 : real estate                              \n",
    "\n",
    "$`alter = age`\n",
    "     \n",
    "\n",
    "$`weitkred = other_installment_plans`\n",
    "           \n",
    " 1 : bank  \n",
    " 2 : stores\n",
    " 3 : none  \n",
    "\n",
    "$`wohn = housing`\n",
    "             \n",
    " 1 : for free\n",
    " 2 : rent    \n",
    " 3 : own     \n",
    "\n",
    "$`bishkred = number_credits`\n",
    "         \n",
    " 1 : 1   \n",
    " 2 : 2-3 \n",
    " 3 : 4-5 \n",
    " 4 : >= 6\n",
    "\n",
    "$`beruf = job`\n",
    "                                               \n",
    " 1 : unemployed/unskilled - non-resident       \n",
    " 2 : unskilled - resident                      \n",
    " 3 : skilled employee/official                 \n",
    " 4 : manager/self-empl./highly qualif. employee\n",
    "\n",
    "$`pers = people_liable`\n",
    "              \n",
    " 1 : 3 or more\n",
    " 2 : 0 to 2   \n",
    "\n",
    "$`telef = telephone`\n",
    "                              \n",
    " 1 : no                       \n",
    " 2 : yes (under customer name)\n",
    "\n",
    "$`gastarb = foreign_worker`\n",
    "        \n",
    " 1 : yes\n",
    " 2 : no \n",
    "\n",
    "$`kredit = credit_risk`\n",
    "         \n",
    " 0 : bad \n",
    " 1 : good\n"
   ]
  },
  {
   "cell_type": "code",
   "execution_count": 3,
   "metadata": {
    "scrolled": true
   },
   "outputs": [
    {
     "name": "stdout",
     "output_type": "stream",
     "text": [
      "   status  duration  credit_history  purpose  amount  savings  \\\n",
      "0       1        18               4        2    1049        1   \n",
      "1       1         9               4        0    2799        1   \n",
      "2       2        12               2        9     841        2   \n",
      "3       1        12               4        0    2122        1   \n",
      "4       1        12               4        0    2171        1   \n",
      "\n",
      "   employment_duration  installment_rate  personal_status_sex  other_debtors  \\\n",
      "0                    2                 4                    2              1   \n",
      "1                    3                 2                    3              1   \n",
      "2                    4                 2                    2              1   \n",
      "3                    3                 3                    3              1   \n",
      "4                    3                 4                    3              1   \n",
      "\n",
      "   ...  property  age  other_installment_plans  housing  number_credits  job  \\\n",
      "0  ...         2   21                        3        1               1    3   \n",
      "1  ...         1   36                        3        1               2    3   \n",
      "2  ...         1   23                        3        1               1    2   \n",
      "3  ...         1   39                        3        1               2    2   \n",
      "4  ...         2   38                        1        2               2    2   \n",
      "\n",
      "   people_liable  telephone  foreign_worker  credit_risk  \n",
      "0              2          1               2            1  \n",
      "1              1          1               2            1  \n",
      "2              2          1               2            1  \n",
      "3              1          1               1            1  \n",
      "4              2          1               1            1  \n",
      "\n",
      "[5 rows x 21 columns]\n"
     ]
    }
   ],
   "source": [
    "training_data = pd.read_csv(\"data/SouthGermanCredit.txt\",\n",
    "                             names=credit_columns,\n",
    "                            header=0,\n",
    "                             sep=r' ',\n",
    "                             engine='python',\n",
    "                             na_values=\"?\").dropna()\n",
    "\n",
    "#training_data.head()\n",
    "print(training_data.head())"
   ]
  },
  {
   "cell_type": "markdown",
   "metadata": {},
   "source": [
    "### Data inspection\n",
    "Plotting histograms for the distribution of the different features is a good way to visualize the data. \\n\n",
    "TBD : Let's plot a few of the features that can be considered _sensitive_.  \n"
   ]
  },
  {
   "cell_type": "code",
   "execution_count": 4,
   "metadata": {},
   "outputs": [
    {
     "data": {
      "text/plain": [
       "<AxesSubplot:title={'center':'Counts of Target'}>"
      ]
     },
     "execution_count": 4,
     "metadata": {},
     "output_type": "execute_result"
    },
    {
     "data": {
      "image/png": "[encoded data removed]",
      "text/plain": [
       "<Figure size 432x288 with 1 Axes>"
      ]
     },
     "metadata": {
      "needs_background": "light"
     },
     "output_type": "display_data"
    }
   ],
   "source": [
    "training_data['credit_risk'].value_counts().sort_values().plot(kind='bar', title='Counts of Target', rot=0)"
   ]
  },
  {
   "cell_type": "code",
   "execution_count": null,
   "metadata": {},
   "outputs": [],
   "source": [
    "test_data =  training_data.sample(frac=0.1)\n",
    "test_data = test_data.drop(['credit_risk'], axis = 1)\n",
    "test_filename = 'test.csv'\n",
    "test_data.to_csv(test_filename,index=False,header=False,sep=',')\n",
    "train_filename = 'train.csv'\n",
    "training_data.to_csv(train_filename,index=False,header=False,sep=',')"
   ]
  },
  {
   "cell_type": "markdown",
   "metadata": {},
   "source": [
    "### Encode and Upload Training Data\n",
    "Here we encode the training and test data. Encoding input data is not necessary for SageMaker Clarify, but is necessary for XGBoost models."
   ]
  },
  {
   "cell_type": "code",
   "execution_count": 6,
   "metadata": {},
   "outputs": [],
   "source": [
    "import boto3\n",
    "from sagemaker.s3 import S3Uploader\n",
    "\n",
    "s3 = boto3.resource('s3')\n",
    "\n",
    "file_key = 'data/SouthGermanCredit.txt'\n",
    "\n",
    "raw = S3Uploader.upload(file_key, 's3://{}/{}/data/raw'.format(bucket, prefix))"
   ]
  },
  {
   "cell_type": "code",
   "execution_count": 7,
   "metadata": {},
   "outputs": [
    {
     "name": "stdout",
     "output_type": "stream",
     "text": [
      "s3://sagemaker-eu-west-1-436518610213/sagemaker/sagemaker-clarify-credit-risk-ensemble-model/data/test/test.csv\n"
     ]
    }
   ],
   "source": [
    "test_raw = S3Uploader.upload(test_filename, 's3://{}/{}/data/test'.format(bucket, prefix))\n",
    "print(test_raw)"
   ]
  },
  {
   "cell_type": "code",
   "execution_count": 86,
   "metadata": {},
   "outputs": [
    {
     "name": "stdout",
     "output_type": "stream",
     "text": [
      "s3://sagemaker-eu-west-1-436518610213/sagemaker/sagemaker-clarify-credit-risk-ensemble-model/data/train/train.csv\n"
     ]
    }
   ],
   "source": [
    "train_raw = S3Uploader.upload(train_filename, 's3://{}/{}/data/train'.format(bucket, prefix))\n",
    "print(train_raw)"
   ]
  },
  {
   "cell_type": "code",
   "execution_count": 211,
   "metadata": {},
   "outputs": [],
   "source": [
    "from sagemaker.processing import ProcessingInput, ProcessingOutput\n",
    "from sagemaker.sklearn.processing import SKLearnProcessor\n",
    "\n",
    "sklearn_processor = SKLearnProcessor(role=role,\n",
    "                                     base_job_name='credit-risk-ensemble-pipeline-proc',\n",
    "                                     instance_type='ml.m5.large',\n",
    "                                     instance_count=1,\n",
    "                                     framework_version='0.20.0')\n",
    "\n"
   ]
  },
  {
   "cell_type": "code",
   "execution_count": 239,
   "metadata": {},
   "outputs": [
    {
     "name": "stdout",
     "output_type": "stream",
     "text": [
      "import argparse\n",
      "import os\n",
      "import warnings\n",
      "\n",
      "import subprocess\n",
      "subprocess.call(['pip', 'install', 'sagemaker-experiments'])\n",
      "\n",
      "import pandas as pd\n",
      "import numpy as np\n",
      "import tarfile\n",
      "\n",
      "from smexperiments.tracker import Tracker\n",
      "\n",
      "from sklearn.externals import joblib\n",
      "from sklearn.model_selection import train_test_split\n",
      "from sklearn.preprocessing import OneHotEncoder, LabelEncoder\n",
      "from sklearn.compose import make_column_transformer\n",
      "\n",
      "from sklearn.exceptions import DataConversionWarning\n",
      "warnings.filterwarnings(action='ignore', category=DataConversionWarning)\n",
      "\n",
      "columns = [\"status\",\"duration\",\"credit_history\",\"purpose\",\"amount\",\"savings\",\"employment_duration\",\"installment_rate\",\"personal_status_sex\",\"other_debtors\",\"present_residence\",\"property\",\"age\",\"other_installment_plans\",\"housing\",\"number_credits\",\"job\",\"people_liable\",\"telephone\",\"foreign_worker\",\"credit_risk\"]\n",
      "\n",
      "if __name__=='__main__':\n",
      "    \n",
      "    # Read the arguments passed to the script.\n",
      "    parser = argparse.ArgumentParser()\n",
      "    parser.add_argument('--train-test-split-ratio', type=float, default=0.3)\n",
      "    args, _ = parser.parse_known_args()\n",
      "    \n",
      "    # Tracking specific parameter value during job.\n",
      "    tracker = Tracker.load()\n",
      "    tracker.log_parameter('train-test-split-ratio', args.train_test_split_ratio)\n",
      "    \n",
      "    print('Received arguments {}'.format(args))\n",
      "\n",
      "    # Read input data into a Pandas dataframe.\n",
      "    input_data_path = os.path.join('/opt/ml/processing/input', 'SouthGermanCredit.txt')\n",
      "    print('Reading input data from {}'.format(input_data_path))\n",
      "    df = pd.read_csv(input_data_path,names=columns,header=0,sep=r' ')\n",
      "    df.columns = columns\n",
      "       \n",
      "    # Defining one-hot encoders.\n",
      "    transformer = make_column_transformer(\n",
      "        (['credit_history', 'purpose','personal_status_sex','other_debtors','property','other_installment_plans','housing','job','telephone','foreign_worker'], OneHotEncoder(sparse=False)), remainder=\"passthrough\"\n",
      "    )\n",
      "    \n",
      "    X = df.drop('credit_risk', axis=1)\n",
      "    y = df['credit_risk']\n",
      "    \n",
      "    featurizer_model = transformer.fit(X)\n",
      "    features = featurizer_model.transform(X)\n",
      "    labels = LabelEncoder().fit_transform(y)\n",
      "    \n",
      "    # Splitting.\n",
      "    split_ratio = args.train_test_split_ratio\n",
      "    print('Splitting data into train and validation sets with ratio {}'.format(split_ratio))\n",
      "    X_train, X_val, y_train, y_val = train_test_split(features, labels, test_size=split_ratio, random_state=0)\n",
      "\n",
      "    print('Train features shape after preprocessing: {}'.format(X_train.shape))\n",
      "    print('Validation features shape after preprocessing: {}'.format(X_val.shape))\n",
      "    \n",
      "    # Saving outputs.\n",
      "    train_features_output_path = os.path.join('/opt/ml/processing/train', 'train_features.csv')\n",
      "    train_labels_output_path = os.path.join('/opt/ml/processing/train', 'train_labels.csv')\n",
      "    \n",
      "    val_features_output_path = os.path.join('/opt/ml/processing/val', 'val_features.csv')\n",
      "    val_labels_output_path = os.path.join('/opt/ml/processing/val', 'val_labels.csv')\n",
      "    \n",
      "    print('Saving training features to {}'.format(train_features_output_path))\n",
      "    pd.DataFrame(X_train).to_csv(train_features_output_path, header=False, index=False)\n",
      "    \n",
      "    print('Saving validation features to {}'.format(val_features_output_path))\n",
      "    pd.DataFrame(X_val).to_csv(val_features_output_path, header=False, index=False)\n",
      "    \n",
      "    print('Saving training labels to {}'.format(train_labels_output_path))\n",
      "    pd.DataFrame(y_train).to_csv(train_labels_output_path, header=False, index=False)\n",
      "    \n",
      "    print('Saving validation labels to {}'.format(val_labels_output_path))\n",
      "    pd.DataFrame(y_val).to_csv(val_labels_output_path, header=False, index=False)\n",
      "    \n",
      "    # Saving model.\n",
      "    model_path = os.path.join('/opt/ml/processing/model', 'model.joblib')\n",
      "    model_output_path = os.path.join('/opt/ml/processing/model', 'model.tar.gz')\n",
      "    \n",
      "    print('Saving featurizer model to {}'.format(model_output_path))\n",
      "    joblib.dump(featurizer_model, model_path)\n",
      "    tar = tarfile.open(model_output_path, \"w:gz\")\n",
      "    tar.add(model_path, arcname=\"model.joblib\")\n",
      "    tar.close()\n",
      "    \n",
      "    tracker.close()"
     ]
    }
   ],
   "source": [
    "!cat source_dir/preprocessor.py"
   ]
  },
  {
   "cell_type": "code",
   "execution_count": 212,
   "metadata": {},
   "outputs": [
    {
     "name": "stdout",
     "output_type": "stream",
     "text": [
      "\n",
      "Job Name:  credit-risk-ensemble-pipeline-proc-2021-04-02-14-42-29-185\n",
      "Inputs:  [{'InputName': 'raw_data', 'AppManaged': False, 'S3Input': {'S3Uri': 's3://sagemaker-eu-west-1-436518610213/sagemaker/sagemaker-clarify-credit-risk-ensemble-model/data/raw/', 'LocalPath': '/opt/ml/processing/input', 'S3DataType': 'S3Prefix', 'S3InputMode': 'File', 'S3DataDistributionType': 'FullyReplicated', 'S3CompressionType': 'None'}}, {'InputName': 'code', 'AppManaged': False, 'S3Input': {'S3Uri': 's3://sagemaker-eu-west-1-436518610213/credit-risk-ensemble-pipeline-proc-2021-04-02-14-42-29-185/input/code/preprocessor.py', 'LocalPath': '/opt/ml/processing/input/code', 'S3DataType': 'S3Prefix', 'S3InputMode': 'File', 'S3DataDistributionType': 'FullyReplicated', 'S3CompressionType': 'None'}}]\n",
      "Outputs:  [{'OutputName': 'train_data', 'AppManaged': False, 'S3Output': {'S3Uri': 's3://sagemaker-eu-west-1-436518610213/sagemaker/sagemaker-clarify-credit-risk-ensemble-model/data/preprocessed/train/', 'LocalPath': '/opt/ml/processing/train', 'S3UploadMode': 'EndOfJob'}}, {'OutputName': 'val_data', 'AppManaged': False, 'S3Output': {'S3Uri': 's3://sagemaker-eu-west-1-436518610213/sagemaker/sagemaker-clarify-credit-risk-ensemble-model/data/preprocessed/val/', 'LocalPath': '/opt/ml/processing/val', 'S3UploadMode': 'EndOfJob'}}, {'OutputName': 'model', 'AppManaged': False, 'S3Output': {'S3Uri': 's3://sagemaker-eu-west-1-436518610213/sagemaker/sagemaker-clarify-credit-risk-ensemble-model/sklearn/', 'LocalPath': '/opt/ml/processing/model', 'S3UploadMode': 'EndOfJob'}}]\n",
      ".............................................!"
     ]
    }
   ],
   "source": [
    "raw_data_path = 's3://{0}/{1}/data/raw/'.format(bucket, prefix)\n",
    "train_data_path = 's3://{0}/{1}/data/preprocessed/train/'.format(bucket, prefix)\n",
    "val_data_path = 's3://{0}/{1}/data/preprocessed/val/'.format(bucket, prefix)\n",
    "model_path = 's3://{0}/{1}/sklearn/'.format(bucket, prefix)\n",
    "\n",
    "\n",
    "sklearn_processor.run(code='source_dir/preprocessor.py',\n",
    "                      inputs=[ProcessingInput(input_name='raw_data', source=raw_data_path, destination='/opt/ml/processing/input')],\n",
    "                      outputs=[ProcessingOutput(output_name='train_data', source='/opt/ml/processing/train', destination=train_data_path),\n",
    "                               ProcessingOutput(output_name='val_data', source='/opt/ml/processing/val', destination=val_data_path),\n",
    "                               ProcessingOutput(output_name='model', source='/opt/ml/processing/model', destination=model_path)],\n",
    "                      arguments=['--train-test-split-ratio', '0.2'], logs = False)\n"
   ]
  },
  {
   "cell_type": "code",
   "execution_count": 11,
   "metadata": {},
   "outputs": [
    {
     "name": "stdout",
     "output_type": "stream",
     "text": [
      "sagemaker/sagemaker-clarify-credit-risk-ensemble-model/data/preprocessed/train/train_features.csv\n",
      "sagemaker/sagemaker-clarify-credit-risk-ensemble-model/data/preprocessed/train/train_labels.csv\n",
      "sagemaker/sagemaker-clarify-credit-risk-ensemble-model/data/preprocessed/val/val_features.csv\n",
      "sagemaker/sagemaker-clarify-credit-risk-ensemble-model/data/preprocessed/val/val_labels.csv\n"
     ]
    }
   ],
   "source": [
    "file_name = 'train_features.csv'\n",
    "s3_key_prefix = '{0}/data/preprocessed/train/{1}'.format(prefix, file_name)\n",
    "print(s3_key_prefix)\n",
    "session.download_data('./', bucket, s3_key_prefix)\n",
    "import pandas as pd\n",
    "df = pd.read_csv(file_name)\n",
    "x_train = np.array(df)\n",
    "\n",
    "file_name = 'train_labels.csv'\n",
    "s3_key_prefix = '{0}/data/preprocessed/train/{1}'.format(prefix, file_name)\n",
    "print(s3_key_prefix)\n",
    "session.download_data('./', bucket, s3_key_prefix)\n",
    "import pandas as pd\n",
    "df = pd.read_csv(file_name)\n",
    "y_train = np.array(df)\n",
    "\n",
    "file_name = 'val_features.csv'\n",
    "s3_key_prefix = '{0}/data/preprocessed/val/{1}'.format(prefix, file_name)\n",
    "print(s3_key_prefix)\n",
    "session.download_data('./', bucket, s3_key_prefix)\n",
    "import pandas as pd\n",
    "df = pd.read_csv(file_name)\n",
    "x_val = np.array(df)\n",
    "\n",
    "file_name = 'val_labels.csv'\n",
    "s3_key_prefix = '{0}/data/preprocessed/val/{1}'.format(prefix, file_name)\n",
    "print(s3_key_prefix)\n",
    "\n",
    "session.download_data('./', bucket, s3_key_prefix)\n",
    "import pandas as pd\n",
    "df = pd.read_csv(file_name)\n",
    "y_val = np.array(df)"
   ]
  },
  {
   "cell_type": "markdown",
   "metadata": {},
   "source": [
    "### Train XGBoost Model\n",
    "#### Train Model 1\n"
   ]
  },
  {
   "cell_type": "code",
   "execution_count": 23,
   "metadata": {},
   "outputs": [
    {
     "name": "stdout",
     "output_type": "stream",
     "text": [
      "\u001b[34mimport\u001b[39;49;00m \u001b[04m\u001b[36margparse\u001b[39;49;00m\n",
      "\u001b[34mimport\u001b[39;49;00m \u001b[04m\u001b[36mjson\u001b[39;49;00m\n",
      "\u001b[34mimport\u001b[39;49;00m \u001b[04m\u001b[36mos\u001b[39;49;00m\n",
      "\u001b[34mimport\u001b[39;49;00m \u001b[04m\u001b[36mrandom\u001b[39;49;00m\n",
      "\u001b[34mimport\u001b[39;49;00m \u001b[04m\u001b[36mpandas\u001b[39;49;00m \u001b[34mas\u001b[39;49;00m \u001b[04m\u001b[36mpd\u001b[39;49;00m\n",
      "\u001b[34mimport\u001b[39;49;00m \u001b[04m\u001b[36mglob\u001b[39;49;00m\n",
      "\u001b[34mimport\u001b[39;49;00m \u001b[04m\u001b[36mpickle\u001b[39;49;00m \u001b[34mas\u001b[39;49;00m \u001b[04m\u001b[36mpkl\u001b[39;49;00m\n",
      "\n",
      "\u001b[34mimport\u001b[39;49;00m \u001b[04m\u001b[36mxgboost\u001b[39;49;00m\n",
      "\n",
      "\u001b[34mdef\u001b[39;49;00m \u001b[32mparse_args\u001b[39;49;00m():\n",
      "\n",
      "    parser = argparse.ArgumentParser()\n",
      "\n",
      "    parser.add_argument(\u001b[33m\"\u001b[39;49;00m\u001b[33m--max_depth\u001b[39;49;00m\u001b[33m\"\u001b[39;49;00m, \u001b[36mtype\u001b[39;49;00m=\u001b[36mint\u001b[39;49;00m, default=\u001b[34m5\u001b[39;49;00m)\n",
      "    parser.add_argument(\u001b[33m\"\u001b[39;49;00m\u001b[33m--eta\u001b[39;49;00m\u001b[33m\"\u001b[39;49;00m, \u001b[36mtype\u001b[39;49;00m=\u001b[36mfloat\u001b[39;49;00m, default=\u001b[34m0.05\u001b[39;49;00m)\n",
      "    parser.add_argument(\u001b[33m\"\u001b[39;49;00m\u001b[33m--gamma\u001b[39;49;00m\u001b[33m\"\u001b[39;49;00m, \u001b[36mtype\u001b[39;49;00m=\u001b[36mint\u001b[39;49;00m, default=\u001b[34m4\u001b[39;49;00m)\n",
      "    parser.add_argument(\u001b[33m\"\u001b[39;49;00m\u001b[33m--min_child_weight\u001b[39;49;00m\u001b[33m\"\u001b[39;49;00m, \u001b[36mtype\u001b[39;49;00m=\u001b[36mint\u001b[39;49;00m, default=\u001b[34m6\u001b[39;49;00m)\n",
      "    parser.add_argument(\u001b[33m\"\u001b[39;49;00m\u001b[33m--silent\u001b[39;49;00m\u001b[33m\"\u001b[39;49;00m, \u001b[36mtype\u001b[39;49;00m=\u001b[36mint\u001b[39;49;00m, default=\u001b[34m0\u001b[39;49;00m)\n",
      "    parser.add_argument(\u001b[33m\"\u001b[39;49;00m\u001b[33m--objective\u001b[39;49;00m\u001b[33m\"\u001b[39;49;00m, \u001b[36mtype\u001b[39;49;00m=\u001b[36mstr\u001b[39;49;00m, default=\u001b[33m\"\u001b[39;49;00m\u001b[33mbinary:logistic\u001b[39;49;00m\u001b[33m\"\u001b[39;49;00m)\n",
      "    parser.add_argument(\u001b[33m\"\u001b[39;49;00m\u001b[33m--eval_metric\u001b[39;49;00m\u001b[33m\"\u001b[39;49;00m, \u001b[36mtype\u001b[39;49;00m=\u001b[36mstr\u001b[39;49;00m, default=\u001b[33m\"\u001b[39;49;00m\u001b[33mauc\u001b[39;49;00m\u001b[33m\"\u001b[39;49;00m)\n",
      "    parser.add_argument(\u001b[33m\"\u001b[39;49;00m\u001b[33m--num_round\u001b[39;49;00m\u001b[33m\"\u001b[39;49;00m, \u001b[36mtype\u001b[39;49;00m=\u001b[36mint\u001b[39;49;00m, default=\u001b[34m10\u001b[39;49;00m)\n",
      "    parser.add_argument(\u001b[33m\"\u001b[39;49;00m\u001b[33m--subsample\u001b[39;49;00m\u001b[33m\"\u001b[39;49;00m, \u001b[36mtype\u001b[39;49;00m=\u001b[36mfloat\u001b[39;49;00m, default=\u001b[34m0.8\u001b[39;49;00m)\n",
      "    parser.add_argument(\u001b[33m\"\u001b[39;49;00m\u001b[33m--early_stopping_rounds\u001b[39;49;00m\u001b[33m\"\u001b[39;49;00m, \u001b[36mtype\u001b[39;49;00m=\u001b[36mint\u001b[39;49;00m, default=\u001b[34m20\u001b[39;49;00m)\n",
      "    \n",
      "    parser.add_argument(\u001b[33m'\u001b[39;49;00m\u001b[33m--train\u001b[39;49;00m\u001b[33m'\u001b[39;49;00m, \u001b[36mtype\u001b[39;49;00m=\u001b[36mstr\u001b[39;49;00m, default=os.environ.get(\u001b[33m'\u001b[39;49;00m\u001b[33mSM_CHANNEL_TRAIN\u001b[39;49;00m\u001b[33m'\u001b[39;49;00m))\n",
      "    parser.add_argument(\u001b[33m'\u001b[39;49;00m\u001b[33m--validation\u001b[39;49;00m\u001b[33m'\u001b[39;49;00m, \u001b[36mtype\u001b[39;49;00m=\u001b[36mstr\u001b[39;49;00m, default=os.environ.get(\u001b[33m'\u001b[39;49;00m\u001b[33mSM_CHANNEL_VALIDATION\u001b[39;49;00m\u001b[33m'\u001b[39;49;00m))\n",
      "\n",
      "    args = parser.parse_args()\n",
      "\n",
      "    \u001b[34mreturn\u001b[39;49;00m args\n",
      "\n",
      "\u001b[34mdef\u001b[39;49;00m \u001b[32mmain\u001b[39;49;00m():\n",
      "\n",
      "    args = parse_args()\n",
      "    train_files_path, validation_files_path = args.train, args.validation\n",
      "    \n",
      "    train_features_path = os.path.join(args.train, \u001b[33m'\u001b[39;49;00m\u001b[33mtrain_features.csv\u001b[39;49;00m\u001b[33m'\u001b[39;49;00m)\n",
      "    train_labels_path = os.path.join(args.train, \u001b[33m'\u001b[39;49;00m\u001b[33mtrain_labels.csv\u001b[39;49;00m\u001b[33m'\u001b[39;49;00m)\n",
      "    \n",
      "    val_features_path = os.path.join(args.validation, \u001b[33m'\u001b[39;49;00m\u001b[33mval_features.csv\u001b[39;49;00m\u001b[33m'\u001b[39;49;00m)\n",
      "    val_labels_path = os.path.join(args.validation, \u001b[33m'\u001b[39;49;00m\u001b[33mval_labels.csv\u001b[39;49;00m\u001b[33m'\u001b[39;49;00m)\n",
      "    \n",
      "    \u001b[36mprint\u001b[39;49;00m(\u001b[33m'\u001b[39;49;00m\u001b[33mLoading training dataframes...\u001b[39;49;00m\u001b[33m'\u001b[39;49;00m)\n",
      "    df_train_features = pd.read_csv(train_features_path)\n",
      "    df_train_labels = pd.read_csv(train_labels_path)\n",
      "    \n",
      "    \u001b[36mprint\u001b[39;49;00m(\u001b[33m'\u001b[39;49;00m\u001b[33mLoading validation dataframes...\u001b[39;49;00m\u001b[33m'\u001b[39;49;00m)\n",
      "    df_val_features = pd.read_csv(val_features_path)\n",
      "    df_val_labels = pd.read_csv(val_labels_path)\n",
      "    \n",
      "    X = df_train_features.values\n",
      "    y = df_train_labels.values\n",
      "    \n",
      "    val_X = df_val_features.values\n",
      "    val_y = df_val_labels.values\n",
      "\n",
      "    dtrain = xgboost.DMatrix(X, label=y)\n",
      "    dval = xgboost.DMatrix(val_X, label=val_y)\n",
      "\n",
      "    watchlist = [(dtrain, \u001b[33m\"\u001b[39;49;00m\u001b[33mtrain\u001b[39;49;00m\u001b[33m\"\u001b[39;49;00m), (dval, \u001b[33m\"\u001b[39;49;00m\u001b[33mvalidation\u001b[39;49;00m\u001b[33m\"\u001b[39;49;00m)]\n",
      "\n",
      "    params = {\n",
      "        \u001b[33m\"\u001b[39;49;00m\u001b[33mmax_depth\u001b[39;49;00m\u001b[33m\"\u001b[39;49;00m: args.max_depth,\n",
      "        \u001b[33m\"\u001b[39;49;00m\u001b[33meta\u001b[39;49;00m\u001b[33m\"\u001b[39;49;00m: args.eta,\n",
      "        \u001b[33m\"\u001b[39;49;00m\u001b[33mgamma\u001b[39;49;00m\u001b[33m\"\u001b[39;49;00m: args.gamma,\n",
      "        \u001b[33m\"\u001b[39;49;00m\u001b[33mmin_child_weight\u001b[39;49;00m\u001b[33m\"\u001b[39;49;00m: args.min_child_weight,\n",
      "        \u001b[33m\"\u001b[39;49;00m\u001b[33msilent\u001b[39;49;00m\u001b[33m\"\u001b[39;49;00m: args.silent,\n",
      "        \u001b[33m\"\u001b[39;49;00m\u001b[33mobjective\u001b[39;49;00m\u001b[33m\"\u001b[39;49;00m: args.objective,\n",
      "        \u001b[33m\"\u001b[39;49;00m\u001b[33msubsample\u001b[39;49;00m\u001b[33m\"\u001b[39;49;00m : args.subsample,\n",
      "        \u001b[33m\"\u001b[39;49;00m\u001b[33meval_metric\u001b[39;49;00m\u001b[33m\"\u001b[39;49;00m : args.eval_metric,\n",
      "        \u001b[33m\"\u001b[39;49;00m\u001b[33mearly_stopping_rounds\u001b[39;49;00m\u001b[33m\"\u001b[39;49;00m : args.early_stopping_rounds\n",
      "    }\n",
      "\n",
      "    bst = xgboost.train(\n",
      "        params=params,\n",
      "        dtrain=dtrain,\n",
      "        evals=watchlist,\n",
      "        num_boost_round=args.num_round)\n",
      "    \n",
      "    model_dir = os.environ.get(\u001b[33m'\u001b[39;49;00m\u001b[33mSM_MODEL_DIR\u001b[39;49;00m\u001b[33m'\u001b[39;49;00m)\n",
      "    pkl.dump(bst, \u001b[36mopen\u001b[39;49;00m(model_dir + \u001b[33m'\u001b[39;49;00m\u001b[33m/model.bin\u001b[39;49;00m\u001b[33m'\u001b[39;49;00m, \u001b[33m'\u001b[39;49;00m\u001b[33mwb\u001b[39;49;00m\u001b[33m'\u001b[39;49;00m))\n",
      "\n",
      "\u001b[34mif\u001b[39;49;00m \u001b[31m__name__\u001b[39;49;00m == \u001b[33m\"\u001b[39;49;00m\u001b[33m__main__\u001b[39;49;00m\u001b[33m\"\u001b[39;49;00m:\n",
      "    main()\n"
     ]
    }
   ],
   "source": [
    "!pygmentize source_dir/train_xgboost.py"
   ]
  },
  {
   "cell_type": "code",
   "execution_count": 203,
   "metadata": {},
   "outputs": [],
   "source": [
    "from sagemaker.xgboost import XGBoost\n",
    "\n",
    "hyperparameters = {\n",
    "    \"max_depth\": \"5\",\n",
    "    \"eta\": \"0.1\",\n",
    "    \"gamma\": \"4\",\n",
    "    \"min_child_weight\": \"6\",\n",
    "    \"silent\": \"1\",\n",
    "    \"objective\":'binary:logistic',\n",
    "    \"num_round\": \"100\",\n",
    "    \"subsample\": \"0.8\",\n",
    "    \"eval_metric\" : \"auc\",\n",
    "    \"early_stopping_rounds\" : \"20\"\n",
    "}\n",
    "\n",
    "\n",
    "entry_point='train_xgboost.py'\n",
    "source_dir='source_dir/'\n",
    "output_path = 's3://{0}/{1}/{2}'.format(bucket, prefix, 'xgb_model')\n",
    "code_location = 's3://{0}/{1}/code'.format(bucket, prefix)\n",
    "\n",
    "estimator = XGBoost(\n",
    "    entry_point=entry_point,\n",
    "    source_dir=source_dir,\n",
    "    output_path=output_path,\n",
    "    code_location=code_location,\n",
    "    hyperparameters=hyperparameters,\n",
    "    instance_type='ml.c5.xlarge', # Specify local as instance type to run local-mode training\n",
    "    instance_count=1,\n",
    "    framework_version=\"0.90-2\",\n",
    "    py_version=\"py3\",\n",
    "    role=role\n",
    ")\n"
   ]
  },
  {
   "cell_type": "code",
   "execution_count": 204,
   "metadata": {},
   "outputs": [
    {
     "name": "stderr",
     "output_type": "stream",
     "text": [
      "The class sagemaker.session.s3_input has been renamed in sagemaker>=2.\n",
      "See: https://sagemaker.readthedocs.io/en/stable/v2.html for details.\n",
      "The class sagemaker.session.s3_input has been renamed in sagemaker>=2.\n",
      "See: https://sagemaker.readthedocs.io/en/stable/v2.html for details.\n"
     ]
    }
   ],
   "source": [
    "from sagemaker.inputs import TrainingInput\n",
    "train_input = TrainingInput('s3://{0}/{1}/data/preprocessed/train/'.format(\n",
    "    bucket, prefix), content_type='csv')\n",
    "val_input = TrainingInput('s3://{0}/{1}/data/preprocessed/val/'.format(\n",
    "    bucket, prefix), content_type='csv')\n",
    "train_config = sagemaker.session.s3_input('s3://{0}/{1}/data/preprocessed/train/'.format(\n",
    "    bucket, prefix), content_type='text/csv')\n",
    "val_config = sagemaker.session.s3_input('s3://{0}/{1}/data/preprocessed/val/'.format(\n",
    "    bucket, prefix), content_type='text/csv')\n",
    "inputs = {'train':train_input, 'validation':val_input}\n",
    "\n",
    "#estimator.fit(inputs, job_name='credit-risk-ensemble-xgb' )"
   ]
  },
  {
   "cell_type": "code",
   "execution_count": 205,
   "metadata": {},
   "outputs": [
    {
     "name": "stdout",
     "output_type": "stream",
     "text": [
      ".....................................................................................................................!\n",
      "!\n"
     ]
    }
   ],
   "source": [
    "from sagemaker.tuner import IntegerParameter, CategoricalParameter, ContinuousParameter, HyperparameterTuner\n",
    "\n",
    "hyperparameter_ranges = {'eta': ContinuousParameter(0, 1),\n",
    "                        'min_child_weight': IntegerParameter(1, 10),\n",
    "                        'gamma': IntegerParameter(1, 5),\n",
    "                        'max_depth': IntegerParameter(1, 10)}\n",
    "\n",
    "objective_metric_name = 'validation:auc'\n",
    "objective_type = 'Maximize'\n",
    "\n",
    "tuner = HyperparameterTuner(estimator,\n",
    "                            objective_metric_name,\n",
    "                            hyperparameter_ranges,\n",
    "                            max_jobs=15,\n",
    "                            max_parallel_jobs=5,\n",
    "                            objective_type=objective_type)\n",
    "\n",
    "tuning_job_name = \"xgb-tuner-{}\".format(strftime(\"%d-%H-%M-%S\", gmtime()))\n",
    "tuner.fit(inputs, job_name=tuning_job_name)\n",
    "tuner.wait()\n",
    "\n",
    "tuner_metrics = sagemaker.HyperparameterTuningJobAnalytics(tuning_job_name)\n",
    "\n"
   ]
  },
  {
   "cell_type": "code",
   "execution_count": 206,
   "metadata": {},
   "outputs": [
    {
     "data": {
      "text/html": [
       "<div>\n",
       "<style scoped>\n",
       "    .dataframe tbody tr th:only-of-type {\n",
       "        vertical-align: middle;\n",
       "    }\n",
       "\n",
       "    .dataframe tbody tr th {\n",
       "        vertical-align: top;\n",
       "    }\n",
       "\n",
       "    .dataframe thead th {\n",
       "        text-align: right;\n",
       "    }\n",
       "</style>\n",
       "<table border=\"1\" class=\"dataframe\">\n",
       "  <thead>\n",
       "    <tr style=\"text-align: right;\">\n",
       "      <th></th>\n",
       "      <th>eta</th>\n",
       "      <th>gamma</th>\n",
       "      <th>max_depth</th>\n",
       "      <th>min_child_weight</th>\n",
       "      <th>TrainingJobName</th>\n",
       "      <th>TrainingJobStatus</th>\n",
       "      <th>FinalObjectiveValue</th>\n",
       "      <th>TrainingStartTime</th>\n",
       "      <th>TrainingEndTime</th>\n",
       "      <th>TrainingElapsedTimeSeconds</th>\n",
       "    </tr>\n",
       "  </thead>\n",
       "  <tbody>\n",
       "    <tr>\n",
       "      <th>4</th>\n",
       "      <td>0.014222</td>\n",
       "      <td>4.0</td>\n",
       "      <td>3.0</td>\n",
       "      <td>3.0</td>\n",
       "      <td>xgb-tuner-02-13-14-58-011-9d20e946</td>\n",
       "      <td>Completed</td>\n",
       "      <td>0.824062</td>\n",
       "      <td>2021-04-02 13:22:45+00:00</td>\n",
       "      <td>2021-04-02 13:23:41+00:00</td>\n",
       "      <td>56.0</td>\n",
       "    </tr>\n",
       "    <tr>\n",
       "      <th>5</th>\n",
       "      <td>0.001028</td>\n",
       "      <td>4.0</td>\n",
       "      <td>3.0</td>\n",
       "      <td>3.0</td>\n",
       "      <td>xgb-tuner-02-13-14-58-010-6e070ef1</td>\n",
       "      <td>Completed</td>\n",
       "      <td>0.810097</td>\n",
       "      <td>2021-04-02 13:20:24+00:00</td>\n",
       "      <td>2021-04-02 13:21:16+00:00</td>\n",
       "      <td>52.0</td>\n",
       "    </tr>\n",
       "    <tr>\n",
       "      <th>10</th>\n",
       "      <td>0.096387</td>\n",
       "      <td>1.0</td>\n",
       "      <td>1.0</td>\n",
       "      <td>2.0</td>\n",
       "      <td>xgb-tuner-02-13-14-58-005-526761f1</td>\n",
       "      <td>Completed</td>\n",
       "      <td>0.798394</td>\n",
       "      <td>2021-04-02 13:17:03+00:00</td>\n",
       "      <td>2021-04-02 13:17:55+00:00</td>\n",
       "      <td>52.0</td>\n",
       "    </tr>\n",
       "    <tr>\n",
       "      <th>11</th>\n",
       "      <td>0.139869</td>\n",
       "      <td>4.0</td>\n",
       "      <td>10.0</td>\n",
       "      <td>4.0</td>\n",
       "      <td>xgb-tuner-02-13-14-58-004-caf2130d</td>\n",
       "      <td>Completed</td>\n",
       "      <td>0.798394</td>\n",
       "      <td>2021-04-02 13:16:58+00:00</td>\n",
       "      <td>2021-04-02 13:17:50+00:00</td>\n",
       "      <td>52.0</td>\n",
       "    </tr>\n",
       "    <tr>\n",
       "      <th>3</th>\n",
       "      <td>0.256643</td>\n",
       "      <td>5.0</td>\n",
       "      <td>9.0</td>\n",
       "      <td>1.0</td>\n",
       "      <td>xgb-tuner-02-13-14-58-012-f08e34c4</td>\n",
       "      <td>Completed</td>\n",
       "      <td>0.797942</td>\n",
       "      <td>2021-04-02 13:22:57+00:00</td>\n",
       "      <td>2021-04-02 13:23:50+00:00</td>\n",
       "      <td>53.0</td>\n",
       "    </tr>\n",
       "  </tbody>\n",
       "</table>\n",
       "</div>"
      ],
      "text/plain": [
       "         eta  gamma  max_depth  min_child_weight  \\\n",
       "4   0.014222    4.0        3.0               3.0   \n",
       "5   0.001028    4.0        3.0               3.0   \n",
       "10  0.096387    1.0        1.0               2.0   \n",
       "11  0.139869    4.0       10.0               4.0   \n",
       "3   0.256643    5.0        9.0               1.0   \n",
       "\n",
       "                       TrainingJobName TrainingJobStatus  FinalObjectiveValue  \\\n",
       "4   xgb-tuner-02-13-14-58-011-9d20e946         Completed             0.824062   \n",
       "5   xgb-tuner-02-13-14-58-010-6e070ef1         Completed             0.810097   \n",
       "10  xgb-tuner-02-13-14-58-005-526761f1         Completed             0.798394   \n",
       "11  xgb-tuner-02-13-14-58-004-caf2130d         Completed             0.798394   \n",
       "3   xgb-tuner-02-13-14-58-012-f08e34c4         Completed             0.797942   \n",
       "\n",
       "           TrainingStartTime           TrainingEndTime  \\\n",
       "4  2021-04-02 13:22:45+00:00 2021-04-02 13:23:41+00:00   \n",
       "5  2021-04-02 13:20:24+00:00 2021-04-02 13:21:16+00:00   \n",
       "10 2021-04-02 13:17:03+00:00 2021-04-02 13:17:55+00:00   \n",
       "11 2021-04-02 13:16:58+00:00 2021-04-02 13:17:50+00:00   \n",
       "3  2021-04-02 13:22:57+00:00 2021-04-02 13:23:50+00:00   \n",
       "\n",
       "    TrainingElapsedTimeSeconds  \n",
       "4                         56.0  \n",
       "5                         52.0  \n",
       "10                        52.0  \n",
       "11                        52.0  \n",
       "3                         53.0  "
      ]
     },
     "execution_count": 206,
     "metadata": {},
     "output_type": "execute_result"
    }
   ],
   "source": [
    "tuner_metrics.dataframe().sort_values(['FinalObjectiveValue'], ascending=False).head(5)"
   ]
  },
  {
   "cell_type": "code",
   "execution_count": 209,
   "metadata": {},
   "outputs": [],
   "source": [
    "xgb_best_training_job = (tuner.best_training_job())"
   ]
  },
  {
   "cell_type": "markdown",
   "metadata": {},
   "source": [
    "### Train TensorFlow Model\n",
    "#### Train Model 2"
   ]
  },
  {
   "cell_type": "code",
   "execution_count": 213,
   "metadata": {},
   "outputs": [
    {
     "name": "stdout",
     "output_type": "stream",
     "text": [
      "\u001b[34mimport\u001b[39;49;00m \u001b[04m\u001b[36margparse\u001b[39;49;00m\n",
      "\u001b[34mimport\u001b[39;49;00m \u001b[04m\u001b[36mnumpy\u001b[39;49;00m \u001b[34mas\u001b[39;49;00m \u001b[04m\u001b[36mnp\u001b[39;49;00m\n",
      "\u001b[34mimport\u001b[39;49;00m \u001b[04m\u001b[36mos\u001b[39;49;00m\n",
      "\u001b[34mimport\u001b[39;49;00m \u001b[04m\u001b[36mtensorflow\u001b[39;49;00m \u001b[34mas\u001b[39;49;00m \u001b[04m\u001b[36mtf\u001b[39;49;00m\n",
      "\u001b[34mfrom\u001b[39;49;00m \u001b[04m\u001b[36mtensorflow\u001b[39;49;00m \u001b[34mimport\u001b[39;49;00m keras\n",
      "\u001b[34mimport\u001b[39;49;00m \u001b[04m\u001b[36mpandas\u001b[39;49;00m \u001b[34mas\u001b[39;49;00m \u001b[04m\u001b[36mpd\u001b[39;49;00m\n",
      "\u001b[34mfrom\u001b[39;49;00m \u001b[04m\u001b[36msklearn\u001b[39;49;00m\u001b[04m\u001b[36m.\u001b[39;49;00m\u001b[04m\u001b[36mmodel_selection\u001b[39;49;00m \u001b[34mimport\u001b[39;49;00m train_test_split\n",
      "\n",
      "os.environ[\u001b[33m'\u001b[39;49;00m\u001b[33mTF_CPP_MIN_LOG_LEVEL\u001b[39;49;00m\u001b[33m'\u001b[39;49;00m] = \u001b[33m'\u001b[39;49;00m\u001b[33m3\u001b[39;49;00m\u001b[33m'\u001b[39;49;00m \n",
      "\n",
      "\n",
      "\u001b[34mdef\u001b[39;49;00m \u001b[32mparse_args\u001b[39;49;00m():\n",
      "    \n",
      "    parser = argparse.ArgumentParser()\n",
      "\n",
      "    \u001b[37m# hyperparameters sent by the client are passed as command-line arguments to the script\u001b[39;49;00m\n",
      "    parser.add_argument(\u001b[33m'\u001b[39;49;00m\u001b[33m--epochs\u001b[39;49;00m\u001b[33m'\u001b[39;49;00m, \u001b[36mtype\u001b[39;49;00m=\u001b[36mint\u001b[39;49;00m, default=\u001b[34m1\u001b[39;49;00m)\n",
      "    parser.add_argument(\u001b[33m'\u001b[39;49;00m\u001b[33m--batch_size\u001b[39;49;00m\u001b[33m'\u001b[39;49;00m, \u001b[36mtype\u001b[39;49;00m=\u001b[36mint\u001b[39;49;00m, default=\u001b[34m64\u001b[39;49;00m)\n",
      "    parser.add_argument(\u001b[33m'\u001b[39;49;00m\u001b[33m--learning_rate\u001b[39;49;00m\u001b[33m'\u001b[39;49;00m, \u001b[36mtype\u001b[39;49;00m=\u001b[36mfloat\u001b[39;49;00m, default=\u001b[34m0.1\u001b[39;49;00m)\n",
      "    \n",
      "    \u001b[37m# data directories\u001b[39;49;00m\n",
      "    parser.add_argument(\u001b[33m'\u001b[39;49;00m\u001b[33m--train\u001b[39;49;00m\u001b[33m'\u001b[39;49;00m, \u001b[36mtype\u001b[39;49;00m=\u001b[36mstr\u001b[39;49;00m, default=os.environ.get(\u001b[33m'\u001b[39;49;00m\u001b[33mSM_CHANNEL_TRAIN\u001b[39;49;00m\u001b[33m'\u001b[39;49;00m))\n",
      "    parser.add_argument(\u001b[33m'\u001b[39;49;00m\u001b[33m--validation\u001b[39;49;00m\u001b[33m'\u001b[39;49;00m, \u001b[36mtype\u001b[39;49;00m=\u001b[36mstr\u001b[39;49;00m, default=os.environ.get(\u001b[33m'\u001b[39;49;00m\u001b[33mSM_CHANNEL_VALIDATION\u001b[39;49;00m\u001b[33m'\u001b[39;49;00m))\n",
      "    \n",
      "    \u001b[37m# model directory: we will use the default set by SageMaker, /opt/ml/model\u001b[39;49;00m\n",
      "    parser.add_argument(\u001b[33m'\u001b[39;49;00m\u001b[33m--model_dir\u001b[39;49;00m\u001b[33m'\u001b[39;49;00m, \u001b[36mtype\u001b[39;49;00m=\u001b[36mstr\u001b[39;49;00m, default=os.environ.get(\u001b[33m'\u001b[39;49;00m\u001b[33mSM_MODEL_DIR\u001b[39;49;00m\u001b[33m'\u001b[39;49;00m))\n",
      "    \n",
      "    \u001b[34mreturn\u001b[39;49;00m parser.parse_known_args()\n",
      "\n",
      "\u001b[34mdef\u001b[39;49;00m \u001b[32mget_model2\u001b[39;49;00m():\n",
      "    \n",
      "    output_bias = tf.keras.initializers.Constant(-\u001b[34m0.84729786\u001b[39;49;00m)\n",
      "    inputs = tf.keras.Input(shape=(\u001b[34m50\u001b[39;49;00m,))\n",
      "    hidden_1 = tf.keras.layers.Dense(\u001b[34m64\u001b[39;49;00m, activation=\u001b[33m'\u001b[39;49;00m\u001b[33mrelu\u001b[39;49;00m\u001b[33m'\u001b[39;49;00m)(inputs)\n",
      "    dropout_1 = tf.keras.layers.Dropout(\u001b[34m0.1\u001b[39;49;00m)(hidden_1)\n",
      "    outputs = tf.keras.layers.Dense(\u001b[34m1\u001b[39;49;00m, activation=\u001b[33m'\u001b[39;49;00m\u001b[33msigmoid\u001b[39;49;00m\u001b[33m'\u001b[39;49;00m,bias_initializer=output_bias)(dropout_1)\n",
      "    \u001b[34mreturn\u001b[39;49;00m tf.keras.Model(inputs=inputs, outputs=outputs)\n",
      "\n",
      "\u001b[34mdef\u001b[39;49;00m \u001b[32mget_model\u001b[39;49;00m():\n",
      "    output_bias = tf.keras.initializers.Constant(-\u001b[34m0.84729786\u001b[39;49;00m)\n",
      "    model = keras.Sequential([\n",
      "      keras.layers.Dense(\n",
      "          \u001b[34m64\u001b[39;49;00m, activation=\u001b[33m'\u001b[39;49;00m\u001b[33mrelu\u001b[39;49;00m\u001b[33m'\u001b[39;49;00m,\n",
      "          input_shape=(\u001b[34m50\u001b[39;49;00m,)),\n",
      "      keras.layers.Dropout(\u001b[34m0.1\u001b[39;49;00m),\n",
      "      keras.layers.Dense(\u001b[34m1\u001b[39;49;00m, activation=\u001b[33m'\u001b[39;49;00m\u001b[33msigmoid\u001b[39;49;00m\u001b[33m'\u001b[39;49;00m,\n",
      "                         bias_initializer=output_bias),])\n",
      "    \u001b[34mreturn\u001b[39;49;00m model\n",
      "\n",
      "\u001b[34mdef\u001b[39;49;00m \u001b[32mget_train_data\u001b[39;49;00m(train_files_path,validation_files_path):\n",
      "    \n",
      "    \n",
      "    train_features_path = os.path.join(train_files_path, \u001b[33m'\u001b[39;49;00m\u001b[33mtrain_features.csv\u001b[39;49;00m\u001b[33m'\u001b[39;49;00m)\n",
      "    train_labels_path = os.path.join(train_files_path, \u001b[33m'\u001b[39;49;00m\u001b[33mtrain_labels.csv\u001b[39;49;00m\u001b[33m'\u001b[39;49;00m)\n",
      "    \n",
      "    val_features_path = os.path.join(validation_files_path, \u001b[33m'\u001b[39;49;00m\u001b[33mval_features.csv\u001b[39;49;00m\u001b[33m'\u001b[39;49;00m)\n",
      "    val_labels_path = os.path.join(validation_files_path, \u001b[33m'\u001b[39;49;00m\u001b[33mval_labels.csv\u001b[39;49;00m\u001b[33m'\u001b[39;49;00m)\n",
      "    \n",
      "    \u001b[36mprint\u001b[39;49;00m(\u001b[33m'\u001b[39;49;00m\u001b[33mLoading training dataframes...\u001b[39;49;00m\u001b[33m'\u001b[39;49;00m)\n",
      "    df_train_features = pd.read_csv(train_features_path)\n",
      "    df_train_labels = pd.read_csv(train_labels_path)\n",
      "    \n",
      "    \u001b[36mprint\u001b[39;49;00m(\u001b[33m'\u001b[39;49;00m\u001b[33mLoading validation dataframes...\u001b[39;49;00m\u001b[33m'\u001b[39;49;00m)\n",
      "    df_val_features = pd.read_csv(val_features_path)\n",
      "    df_val_labels = pd.read_csv(val_labels_path)\n",
      "    \n",
      "    X = df_train_features.values\n",
      "    y = df_train_labels.values\n",
      "    \n",
      "    val_X = df_val_features.values\n",
      "    val_y = df_val_labels.values\n",
      "    \n",
      "    \n",
      "    \n",
      "    \n",
      "    \n",
      "    \u001b[36mprint\u001b[39;49;00m(\u001b[33m'\u001b[39;49;00m\u001b[33mx train\u001b[39;49;00m\u001b[33m'\u001b[39;49;00m, X.shape,\u001b[33m'\u001b[39;49;00m\u001b[33my train\u001b[39;49;00m\u001b[33m'\u001b[39;49;00m, y.shape)\n",
      "    \u001b[36mprint\u001b[39;49;00m(\u001b[33m'\u001b[39;49;00m\u001b[33mx val\u001b[39;49;00m\u001b[33m'\u001b[39;49;00m, val_X.shape,\u001b[33m'\u001b[39;49;00m\u001b[33my val\u001b[39;49;00m\u001b[33m'\u001b[39;49;00m, val_y.shape)\n",
      "    \u001b[36mprint\u001b[39;49;00m(X)\n",
      "    \u001b[37m#print(y)\u001b[39;49;00m\n",
      "    \u001b[34mreturn\u001b[39;49;00m X, y, val_X, val_y\n",
      "\n",
      "\n",
      "\u001b[34mif\u001b[39;49;00m \u001b[31m__name__\u001b[39;49;00m == \u001b[33m\"\u001b[39;49;00m\u001b[33m__main__\u001b[39;49;00m\u001b[33m\"\u001b[39;49;00m:\n",
      "        \n",
      "    args, _ = parse_args()\n",
      "    \n",
      "    x_train, y_train, x_val, y_val = get_train_data(args.train,args.validation)\n",
      "        \n",
      "    device = \u001b[33m'\u001b[39;49;00m\u001b[33m/cpu:0\u001b[39;49;00m\u001b[33m'\u001b[39;49;00m \n",
      "    \u001b[36mprint\u001b[39;49;00m(device)\n",
      "    batch_size = args.batch_size\n",
      "    epochs = args.epochs\n",
      "    learning_rate = args.learning_rate\n",
      "    \u001b[36mprint\u001b[39;49;00m(\u001b[33m'\u001b[39;49;00m\u001b[33mbatch_size = \u001b[39;49;00m\u001b[33m{}\u001b[39;49;00m\u001b[33m, epochs = \u001b[39;49;00m\u001b[33m{}\u001b[39;49;00m\u001b[33m, learning rate = \u001b[39;49;00m\u001b[33m{}\u001b[39;49;00m\u001b[33m'\u001b[39;49;00m.format(batch_size, epochs, learning_rate))\n",
      "\n",
      "    \u001b[34mwith\u001b[39;49;00m tf.device(device):\n",
      "        \n",
      "        model = get_model()\n",
      "        optimizer=keras.optimizers.Adam(learning_rate)\n",
      "        METRICS = [\n",
      "          keras.metrics.TruePositives(name=\u001b[33m'\u001b[39;49;00m\u001b[33mtp\u001b[39;49;00m\u001b[33m'\u001b[39;49;00m),\n",
      "          keras.metrics.FalsePositives(name=\u001b[33m'\u001b[39;49;00m\u001b[33mfp\u001b[39;49;00m\u001b[33m'\u001b[39;49;00m),\n",
      "          keras.metrics.TrueNegatives(name=\u001b[33m'\u001b[39;49;00m\u001b[33mtn\u001b[39;49;00m\u001b[33m'\u001b[39;49;00m),\n",
      "          keras.metrics.FalseNegatives(name=\u001b[33m'\u001b[39;49;00m\u001b[33mfn\u001b[39;49;00m\u001b[33m'\u001b[39;49;00m), \n",
      "          keras.metrics.BinaryAccuracy(name=\u001b[33m'\u001b[39;49;00m\u001b[33maccuracy\u001b[39;49;00m\u001b[33m'\u001b[39;49;00m),\n",
      "          keras.metrics.Precision(name=\u001b[33m'\u001b[39;49;00m\u001b[33mprecision\u001b[39;49;00m\u001b[33m'\u001b[39;49;00m),\n",
      "          keras.metrics.Recall(name=\u001b[33m'\u001b[39;49;00m\u001b[33mrecall\u001b[39;49;00m\u001b[33m'\u001b[39;49;00m),\n",
      "          keras.metrics.AUC(name=\u001b[33m'\u001b[39;49;00m\u001b[33mauc\u001b[39;49;00m\u001b[33m'\u001b[39;49;00m),\n",
      "        ]\n",
      "        model.compile(optimizer=optimizer, loss=tf.keras.losses.BinaryCrossentropy(),metrics=METRICS)  \n",
      "        \n",
      "        \u001b[37m#model.fit(x_train, y_train, batch_size=batch_size, epochs=epochs,\u001b[39;49;00m\n",
      "        \u001b[37m#          validation_data=(x_val,y_val),class_weight=class_weight)\u001b[39;49;00m\n",
      "        model.fit(x_train, y_train, batch_size=batch_size, epochs=epochs,\n",
      "                 validation_data=(x_val,y_val))\n",
      "        \u001b[37m# evaluate on train set\u001b[39;49;00m\n",
      "        scores = model.evaluate(x_train, y_train, \u001b[34mNone\u001b[39;49;00m, verbose=\u001b[34m1\u001b[39;49;00m)\n",
      "        \u001b[36mprint\u001b[39;49;00m(\u001b[33m\"\u001b[39;49;00m\u001b[33m\\n\u001b[39;49;00m\u001b[33mtrain bce :\u001b[39;49;00m\u001b[33m\"\u001b[39;49;00m, scores)\n",
      "                \n",
      "        \u001b[37m# evaluate on val set\u001b[39;49;00m\n",
      "        scores = model.evaluate(x_val, y_val, \u001b[34mNone\u001b[39;49;00m, verbose=\u001b[34m1\u001b[39;49;00m)\n",
      "        \u001b[36mprint\u001b[39;49;00m(\u001b[33m\"\u001b[39;49;00m\u001b[33m\\n\u001b[39;49;00m\u001b[33mval bce :\u001b[39;49;00m\u001b[33m\"\u001b[39;49;00m, scores)\n",
      "        \n",
      "        \u001b[37m#print val set predictions\u001b[39;49;00m\n",
      "        \u001b[36mprint\u001b[39;49;00m(model.predict(x_val))\n",
      "        \n",
      "        \u001b[37m# save model\u001b[39;49;00m\n",
      "        model.save(args.model_dir + \u001b[33m'\u001b[39;49;00m\u001b[33m/1\u001b[39;49;00m\u001b[33m'\u001b[39;49;00m)\n"
     ]
    }
   ],
   "source": [
    "!pygmentize source_dir/train_tf.py"
   ]
  },
  {
   "cell_type": "code",
   "execution_count": 200,
   "metadata": {},
   "outputs": [],
   "source": [
    "\n",
    "from sagemaker.tensorflow import TensorFlow\n",
    "model_dir = '/opt/ml/model'\n",
    "hyperparameters = {'epochs': 100, 'batch_size': 8, 'learning_rate': 0.001}\n",
    "estimator = TensorFlow(source_dir='source_dir',\n",
    "                             entry_point='train_tf.py',\n",
    "                             model_dir=model_dir,\n",
    "                             instance_type='ml.c5.xlarge',\n",
    "                             instance_count=1,\n",
    "                             hyperparameters=hyperparameters,\n",
    "                             role=role,\n",
    "                             output_path='s3://{}/{}/{}'.format(bucket, prefix, 'tf_model'),\n",
    "                             framework_version='2.4.1',\n",
    "                             py_version='py37',\n",
    "                             script_mode=True)\n",
    "\n",
    "inputs = {'train':train_input, 'validation':val_input}\n",
    "#estimator.fit(inputs,job_name='credit-risk-ensemble-tf2')"
   ]
  },
  {
   "cell_type": "code",
   "execution_count": null,
   "metadata": {},
   "outputs": [],
   "source": [
    "from sagemaker.tuner import IntegerParameter, CategoricalParameter, ContinuousParameter, HyperparameterTuner\n",
    "\n",
    "hyperparameter_ranges = {\n",
    "  'learning_rate': ContinuousParameter(0.001, 0.1, scaling_type=\"Logarithmic\"),\n",
    "  'epochs': IntegerParameter(50, 200),\n",
    "  'batch_size': IntegerParameter(8, 256),\n",
    "}\n",
    "\n",
    "metric_definitions = [{'Name': 'val_auc',\n",
    "                       'Regex': ' val_auc: ([0-9\\\\.]+)'}]\n",
    "\n",
    "objective_metric_name = 'val_auc'\n",
    "objective_type = 'Maximize'\n",
    "\n",
    "\n",
    "tuner = HyperparameterTuner(estimator,\n",
    "                            objective_metric_name,\n",
    "                            hyperparameter_ranges,\n",
    "                            metric_definitions,\n",
    "                            max_jobs=15,\n",
    "                            max_parallel_jobs=5,\n",
    "                            objective_type=objective_type)\n",
    "\n",
    "tuning_job_name = \"tf2-tuner-{}\".format(strftime(\"%d-%H-%M-%S\", gmtime()))\n",
    "tuner.fit(inputs, job_name=tuning_job_name)\n",
    "tuner.wait()\n",
    "\n",
    "tuner_metrics = sagemaker.HyperparameterTuningJobAnalytics(tuning_job_name)\n",
    "\n"
   ]
  },
  {
   "cell_type": "code",
   "execution_count": 202,
   "metadata": {},
   "outputs": [
    {
     "data": {
      "text/html": [
       "<div>\n",
       "<style scoped>\n",
       "    .dataframe tbody tr th:only-of-type {\n",
       "        vertical-align: middle;\n",
       "    }\n",
       "\n",
       "    .dataframe tbody tr th {\n",
       "        vertical-align: top;\n",
       "    }\n",
       "\n",
       "    .dataframe thead th {\n",
       "        text-align: right;\n",
       "    }\n",
       "</style>\n",
       "<table border=\"1\" class=\"dataframe\">\n",
       "  <thead>\n",
       "    <tr style=\"text-align: right;\">\n",
       "      <th></th>\n",
       "      <th>batch_size</th>\n",
       "      <th>epochs</th>\n",
       "      <th>learning_rate</th>\n",
       "      <th>TrainingJobName</th>\n",
       "      <th>TrainingJobStatus</th>\n",
       "      <th>FinalObjectiveValue</th>\n",
       "      <th>TrainingStartTime</th>\n",
       "      <th>TrainingEndTime</th>\n",
       "      <th>TrainingElapsedTimeSeconds</th>\n",
       "    </tr>\n",
       "  </thead>\n",
       "  <tbody>\n",
       "    <tr>\n",
       "      <th>9</th>\n",
       "      <td>219.0</td>\n",
       "      <td>88.0</td>\n",
       "      <td>0.029018</td>\n",
       "      <td>tf2-tuner-02-12-58-31-006-6de39d85</td>\n",
       "      <td>Completed</td>\n",
       "      <td>0.8450</td>\n",
       "      <td>2021-04-02 13:03:36+00:00</td>\n",
       "      <td>2021-04-02 13:04:29+00:00</td>\n",
       "      <td>53.0</td>\n",
       "    </tr>\n",
       "    <tr>\n",
       "      <th>5</th>\n",
       "      <td>26.0</td>\n",
       "      <td>170.0</td>\n",
       "      <td>0.002491</td>\n",
       "      <td>tf2-tuner-02-12-58-31-010-84801b71</td>\n",
       "      <td>Completed</td>\n",
       "      <td>0.8359</td>\n",
       "      <td>2021-04-02 13:03:48+00:00</td>\n",
       "      <td>2021-04-02 13:05:06+00:00</td>\n",
       "      <td>78.0</td>\n",
       "    </tr>\n",
       "    <tr>\n",
       "      <th>7</th>\n",
       "      <td>134.0</td>\n",
       "      <td>192.0</td>\n",
       "      <td>0.004962</td>\n",
       "      <td>tf2-tuner-02-12-58-31-008-df33fe10</td>\n",
       "      <td>Completed</td>\n",
       "      <td>0.8351</td>\n",
       "      <td>2021-04-02 13:03:27+00:00</td>\n",
       "      <td>2021-04-02 13:04:22+00:00</td>\n",
       "      <td>55.0</td>\n",
       "    </tr>\n",
       "    <tr>\n",
       "      <th>13</th>\n",
       "      <td>176.0</td>\n",
       "      <td>173.0</td>\n",
       "      <td>0.002185</td>\n",
       "      <td>tf2-tuner-02-12-58-31-002-585d8abf</td>\n",
       "      <td>Completed</td>\n",
       "      <td>0.8108</td>\n",
       "      <td>2021-04-02 13:00:40+00:00</td>\n",
       "      <td>2021-04-02 13:01:39+00:00</td>\n",
       "      <td>59.0</td>\n",
       "    </tr>\n",
       "    <tr>\n",
       "      <th>14</th>\n",
       "      <td>128.0</td>\n",
       "      <td>134.0</td>\n",
       "      <td>0.001556</td>\n",
       "      <td>tf2-tuner-02-12-58-31-001-9206592b</td>\n",
       "      <td>Completed</td>\n",
       "      <td>0.8102</td>\n",
       "      <td>2021-04-02 13:00:17+00:00</td>\n",
       "      <td>2021-04-02 13:01:21+00:00</td>\n",
       "      <td>64.0</td>\n",
       "    </tr>\n",
       "  </tbody>\n",
       "</table>\n",
       "</div>"
      ],
      "text/plain": [
       "    batch_size  epochs  learning_rate                     TrainingJobName  \\\n",
       "9        219.0    88.0       0.029018  tf2-tuner-02-12-58-31-006-6de39d85   \n",
       "5         26.0   170.0       0.002491  tf2-tuner-02-12-58-31-010-84801b71   \n",
       "7        134.0   192.0       0.004962  tf2-tuner-02-12-58-31-008-df33fe10   \n",
       "13       176.0   173.0       0.002185  tf2-tuner-02-12-58-31-002-585d8abf   \n",
       "14       128.0   134.0       0.001556  tf2-tuner-02-12-58-31-001-9206592b   \n",
       "\n",
       "   TrainingJobStatus  FinalObjectiveValue         TrainingStartTime  \\\n",
       "9          Completed               0.8450 2021-04-02 13:03:36+00:00   \n",
       "5          Completed               0.8359 2021-04-02 13:03:48+00:00   \n",
       "7          Completed               0.8351 2021-04-02 13:03:27+00:00   \n",
       "13         Completed               0.8108 2021-04-02 13:00:40+00:00   \n",
       "14         Completed               0.8102 2021-04-02 13:00:17+00:00   \n",
       "\n",
       "             TrainingEndTime  TrainingElapsedTimeSeconds  \n",
       "9  2021-04-02 13:04:29+00:00                        53.0  \n",
       "5  2021-04-02 13:05:06+00:00                        78.0  \n",
       "7  2021-04-02 13:04:22+00:00                        55.0  \n",
       "13 2021-04-02 13:01:39+00:00                        59.0  \n",
       "14 2021-04-02 13:01:21+00:00                        64.0  "
      ]
     },
     "execution_count": 202,
     "metadata": {},
     "output_type": "execute_result"
    }
   ],
   "source": [
    "tuner_metrics.dataframe().sort_values(['FinalObjectiveValue'], ascending=False).head(5)"
   ]
  },
  {
   "cell_type": "code",
   "execution_count": null,
   "metadata": {},
   "outputs": [],
   "source": [
    "tf2_best_training_job = (tuner.best_training_job())"
   ]
  },
  {
   "cell_type": "markdown",
   "metadata": {},
   "source": [
    "### Create combined model artifact"
   ]
  },
  {
   "cell_type": "code",
   "execution_count": 216,
   "metadata": {},
   "outputs": [
    {
     "name": "stdout",
     "output_type": "stream",
     "text": [
      "download: s3://sagemaker-eu-west-1-436518610213/sagemaker/sagemaker-clarify-credit-risk-ensemble-model/sklearn/model.joblib to models/sklearn.joblib\n",
      "download: s3://sagemaker-eu-west-1-436518610213/sagemaker/sagemaker-clarify-credit-risk-ensemble-model/xgb_model/xgb-tuner-02-13-14-58-011-9d20e946/output/model.tar.gz to models/xgb.tar.gz\n",
      "download: s3://sagemaker-eu-west-1-436518610213/sagemaker/sagemaker-clarify-credit-risk-ensemble-model/tf_model/tf2-tuner-02-12-58-31-006-6de39d85/output/model.tar.gz to models/tf.tar.gz\n",
      "./models/\n",
      "./models/sklearn.joblib\n",
      "./models/tf.tar.gz\n",
      "./models/xgb.tar.gz\n",
      "s3://sagemaker-eu-west-1-436518610213/sagemaker/sagemaker-clarify-credit-risk-ensemble-model/ensemble_model/\n"
     ]
    },
    {
     "data": {
      "text/plain": [
       "'s3://sagemaker-eu-west-1-436518610213/sagemaker/sagemaker-clarify-credit-risk-ensemble-model/ensemble_model/modelv3.tar.gz'"
      ]
     },
     "execution_count": 216,
     "metadata": {},
     "output_type": "execute_result"
    }
   ],
   "source": [
    "preprocessor_model = 's3://{}/{}/{}'.format(bucket, prefix, 'sklearn') + '/model.joblib'\n",
    "xgboost_model = 's3://{}/{}/{}/{}'.format(bucket, prefix, 'xgb_model',xgb_best_training_job) + '/output/model.tar.gz'\n",
    "tf_model = 's3://{}/{}/{}/{}'.format(bucket, prefix, 'tf_model',tf2_best_training_job) + '/output/model.tar.gz'\n",
    "!aws s3 cp {preprocessor_model} ./models/sklearn.joblib\n",
    "!aws s3 cp {xgboost_model} ./models/xgb.tar.gz\n",
    "!aws s3 cp {tf_model} ./models/tf.tar.gz\n",
    "!tar -zcvf modelv3.tar.gz ./models\n",
    "ensemble_model_url='s3://{}/{}/{}'.format(bucket, prefix,  \"ensemble_model/\")\n",
    "print(ensemble_model_url)\n",
    "session.upload_data(path='modelv3.tar.gz', key_prefix=prefix + \"/ensemble_model\")"
   ]
  },
  {
   "cell_type": "markdown",
   "metadata": {},
   "source": [
    "### Create custom inference script (multiple outcomes for each prediction - model1 , model2, ensemble)"
   ]
  },
  {
   "cell_type": "code",
   "execution_count": 17,
   "metadata": {},
   "outputs": [
    {
     "name": "stdout",
     "output_type": "stream",
     "text": [
      "\"\"\"\n",
      "ModelHandler defines an example model handler for load and inference requests \n",
      "\"\"\"\n",
      "from collections import namedtuple\n",
      "import glob\n",
      "import json\n",
      "import logging\n",
      "import os\n",
      "import re\n",
      "import tarfile\n",
      "import pickle as pkl\n",
      "import csv\n",
      "import io\n",
      "import subprocess\n",
      "import pandas as pd\n",
      "import xgboost as xgb\n",
      "import tensorflow as tf\n",
      "from sklearn.externals import joblib\n",
      "from io import StringIO\n",
      "\n",
      "import numpy as np\n",
      "from six import BytesIO, StringIO\n",
      "\n",
      "from sagemaker_inference import content_types, decoder, default_inference_handler, encoder, errors\n",
      "\n",
      "class ModelHandler(object):     \n",
      "    \n",
      "    \n",
      "    def __init__(self):\n",
      "        self.initialized = False\n",
      "        self.preprocessor = None\n",
      "        self.model1 = None\n",
      "        self.model2 = None\n",
      "        self.shapes = None\n",
      "        self.feature_columns_names = [\"status\",\"duration\",\"credit_history\",\"purpose\",\"amount\",\"savings\",\"employment_duration\",\"installment_rate\",\"personal_status_sex\",\"other_debtors\",\"present_residence\",\"property\",\"age\",\"other_installment_plans\",\"housing\",\"number_credits\",\"job\",\"people_liable\",\"telephone\",\"foreign_worker\"]\n",
      "        \n",
      "    def initialize(self, context):\n",
      "        \"\"\"\n",
      "        Initialize model. This will be called during model loading time\n",
      "        :param context: Initial context contains model server system properties.\n",
      "        :return:\n",
      "        \"\"\"\n",
      "        self.initialized = True\n",
      "        properties = context.system_properties\n",
      "        # Contains the url parameter passed to the load request\n",
      "        model_dir = properties.get(\"model_dir\") \n",
      "        print(model_dir)\n",
      "        print('***********************')\n",
      "        result = subprocess.run(['ls', model_dir], stdout=subprocess.PIPE)\n",
      "        print(result.stdout)\n",
      "        result = subprocess.run(['pwd'], stdout=subprocess.PIPE)\n",
      "        print(result.stdout)\n",
      "        tar = tarfile.open( model_dir + '/models/xgb.tar.gz', \"r:gz\")\n",
      "        tar.extractall('/home/model-server/')\n",
      "        tar.close()\n",
      "        tar = tarfile.open( model_dir + '/models/tf.tar.gz', \"r:gz\")\n",
      "        tar.extractall('/home/model-server/')\n",
      "        tar.close()\n",
      "        \n",
      "        self.preprocessor = joblib.load(model_dir + \"/models/sklearn.joblib\")\n",
      "        \n",
      "        #model_file1 = '/home/model-server/xgboost-model'\n",
      "        model_file1 = '/home/model-server/model.bin'\n",
      "        self.model1 = pkl.load(open(model_file1, 'rb'))   \n",
      "        \n",
      "        model_file2 = '/home/model-server/1/'\n",
      "        self.model2 = tf.keras.models.load_model(model_file2)\n",
      "        print(self.model2.summary())\n",
      "        \n",
      "\n",
      "    \n",
      "    def preprocess(self, request):\n",
      "        \"\"\"\n",
      "        Transform raw input into model input data.\n",
      "        :param request: list of raw requests\n",
      "        :return: list of preprocessed model input data\n",
      "        \"\"\"\n",
      "        \n",
      "        #model_input = decoder.decode(request[0].get('body').decode(),content_types.CSV)\n",
      "        model_input = request[0].get('body').decode()\n",
      "        print(model_input)\n",
      "        print(type(model_input))\n",
      "        print('preprocess')\n",
      "        model_input = StringIO(model_input)\n",
      "        print(type(model_input))\n",
      "        model_input = pd.read_csv(model_input,header=None,sep=',')\n",
      "        print(model_input)\n",
      "        if len(model_input.columns) == len(self.feature_columns_names):\n",
      "            model_input.columns = self.feature_columns_names \n",
      "        print(model_input)\n",
      "        features = self.preprocessor.transform(model_input)\n",
      "        print('features')\n",
      "        print(features)\n",
      "        if features.ndim == 1:\n",
      "            features = np.expand_dims(features, axis=0)\n",
      "        #print(model_input)     \n",
      "        return features\n",
      "\n",
      "    def inference(self, model_input):\n",
      "        \n",
      "        # Do some inference call to engine here and return output\n",
      "        print('inference')\n",
      "        output1 = np.reshape(self.model1.predict(xgb.DMatrix(model_input), validate_features=False),(-1,1))\n",
      "        output2 = self.model2.predict(model_input)\n",
      "        #print('tf2 output')\n",
      "        #print(output2)\n",
      "        avg = np.mean((output1,output2),axis=0)\n",
      "        output = np.concatenate((output1,output2,avg),axis=1)\n",
      "        print('inference')\n",
      "        #print(output)\n",
      "        return output\n",
      "\n",
      "    def postprocess(self, inference_output):\n",
      "        \"\"\"\n",
      "        Return predict result in as list.\n",
      "        :param inference_output: list of inference output\n",
      "        :return: list of predict results\n",
      "        \"\"\"\n",
      "        #print (inference_output)\n",
      "        print('postprocess with encoder custom')\n",
      "        out1 = ''\n",
      "               \n",
      "        for x in inference_output:\n",
      "            #print(x)\n",
      "            stream = StringIO()\n",
      "            np.savetxt(stream, x, delimiter=',', fmt='%.2f', newline=',')\n",
      "            out1+=str('\"[' + str(stream.getvalue()) + ']\",')\n",
      "            #print(out1)\n",
      "            \n",
      "        print('output')\n",
      "        out1 = out1[:-1]\n",
      "        out = out1.encode(\"utf-8\")\n",
      "        print(out)\n",
      "        return [out]\n",
      "        \n",
      "    def handle(self, data, context):\n",
      "        \"\"\"\n",
      "        Call preprocess, inference and post-process functions\n",
      "        :param data: input data\n",
      "        :param context: mms context\n",
      "        \"\"\"\n",
      "        \n",
      "        model_input = self.preprocess(data)\n",
      "        model_out = self.inference(model_input)\n",
      "        return self.postprocess(model_out)\n",
      "\n",
      "_service = ModelHandler()\n",
      "\n",
      "\n",
      "def handle(data, context):\n",
      "    if not _service.initialized:\n",
      "        _service.initialize(context)\n",
      "\n",
      "    if data is None:\n",
      "        return None\n",
      "\n",
      "    return _service.handle(data, context)"
     ]
    }
   ],
   "source": [
    "!cat container/model_handler.py"
   ]
  },
  {
   "cell_type": "code",
   "execution_count": null,
   "metadata": {},
   "outputs": [],
   "source": [
    "import sagemaker\n",
    "import boto3\n",
    "\n",
    "try:\n",
    "    role = sagemaker.get_execution_role()\n",
    "except:\n",
    "    role = get_execution_role()\n",
    "\n",
    "print(\"Using IAM role arn: {}\".format(role))"
   ]
  },
  {
   "cell_type": "code",
   "execution_count": 163,
   "metadata": {},
   "outputs": [],
   "source": [
    "\n",
    "\n",
    "sm_client = boto3.client(service_name='sagemaker')\n",
    "runtime_sm_client = boto3.client(service_name='sagemaker-runtime')\n",
    "\n",
    "account_id = boto3.client('sts').get_caller_identity()['Account']\n",
    "region = boto3.Session().region_name\n"
   ]
  },
  {
   "cell_type": "markdown",
   "metadata": {},
   "source": [
    "### Create custom container for inference"
   ]
  },
  {
   "cell_type": "markdown",
   "metadata": {},
   "source": [
    "If you are using SageMaker Studio, Complete the prerequisites mentioned in https://aws.amazon.com/blogs/machine-learning/using-the-amazon-sagemaker-studio-image-build-cli-to-build-container-images-from-your-studio-notebooks/"
   ]
  },
  {
   "cell_type": "code",
   "execution_count": null,
   "metadata": {},
   "outputs": [],
   "source": [
    "#****************if SageMaker Studio , do this  ****************************\n",
    "import sys\n",
    "!{sys.executable} -m pip install sagemaker_studio_image_build "
   ]
  },
  {
   "cell_type": "code",
   "execution_count": 182,
   "metadata": {},
   "outputs": [
    {
     "name": "stdout",
     "output_type": "stream",
     "text": [
      "/root/clarify-demo/credit_risk_ensemble_prediction_explainability/container\n",
      "Created ECR repository byoc-sagemaker-studio-ensemble\n",
      "........................................................\n",
      "Build complete, status = SUCCEEDED\n",
      "Logs at https://console.aws.amazon.com/cloudwatch/home?region=eu-west-1#logEvent:group=/aws/codebuild/sagemaker-studio-d-qcye4fb3vjo6-hpoonawa-99f-OSaHqLlQGivtIaoU;stream=e735b1fd-734d-423a-b634-a27a1047b4da\n",
      "Image URI: 436518610213.dkr.ecr.eu-west-1.amazonaws.com/byoc-sagemaker-studio-ensemble:1.0\n",
      "/root/clarify-demo/credit_risk_ensemble_prediction_explainability\n"
     ]
    }
   ],
   "source": [
    "#****************if SageMaker Studio , do this ****************************\n",
    "%cd \"container\"\n",
    "!sm-docker build . --repository byoc-sagemaker-studio-ensemble:1.0 --no-logs\n",
    "%cd \"..\"\n",
    "repo_name ='byoc-sagemaker-studio-ensemble'\n",
    "image_tag = '1.0'"
   ]
  },
  {
   "cell_type": "code",
   "execution_count": null,
   "metadata": {},
   "outputs": [],
   "source": [
    "#****************if SageMaker Notebook instance , do this ****************************\n",
    "# repo_name ='byoc-sagemaker-ensemble'\n",
    "# image_tag = 'latest'\n",
    "# %%sh\n",
    "\n",
    "# # The name of our algorithm\n",
    "# algorithm_name=byoc-sagemaker-ensemble\n",
    "\n",
    "# cd container\n",
    "\n",
    "# account=$(aws sts get-caller-identity --query Account --output text)\n",
    "\n",
    "# # Get the region defined in the current configuration (default to us-west-2 if none defined)\n",
    "# region=$(aws configure get region)\n",
    "# region=${region:-us-west-2}\n",
    "\n",
    "# fullname=\"${account}.dkr.ecr.${region}.amazonaws.com/${algorithm_name}:latest\"\n",
    "\n",
    "# # If the repository doesn't exist in ECR, create it.\n",
    "# aws ecr describe-repositories --repository-names \"${algorithm_name}\" > /dev/null 2>&1\n",
    "\n",
    "# if [ $? -ne 0 ]\n",
    "# then\n",
    "#     aws ecr create-repository --repository-name \"${algorithm_name}\" > /dev/null\n",
    "# fi\n",
    "\n",
    "# # Get the login command from ECR and execute it directly\n",
    "# $(aws ecr get-login --region ${region} --no-include-email)\n",
    "\n",
    "# # Build the docker image locally with the image name and then push it to ECR\n",
    "# # with the full name.\n",
    "\n",
    "# docker build -q -t ${algorithm_name} .\n",
    "# docker tag ${algorithm_name} ${fullname}\n",
    "\n",
    "# docker push ${fullname}\n"
   ]
  },
  {
   "cell_type": "markdown",
   "metadata": {},
   "source": [
    "### Create SageMaker model to be deployed"
   ]
  },
  {
   "cell_type": "code",
   "execution_count": 219,
   "metadata": {},
   "outputs": [
    {
     "name": "stdout",
     "output_type": "stream",
     "text": [
      "Model name: BYOC-EnsembleModel2021-04-02-14-55-17\n",
      "Model data Url: s3://sagemaker-eu-west-1-436518610213/sagemaker/sagemaker-clarify-credit-risk-ensemble-model/ensemble_model/modelv3.tar.gz\n",
      "Container image: 436518610213.dkr.ecr.eu-west-1.amazonaws.com/byoc-sagemaker-studio-ensemble:1.0\n",
      "Model Arn: arn:aws:sagemaker:eu-west-1:436518610213:model/byoc-ensemblemodel2021-04-02-14-55-17\n"
     ]
    }
   ],
   "source": [
    "from sagemaker.predictor import Predictor\n",
    "import boto3\n",
    "from time import gmtime, strftime\n",
    "model_name = 'BYOC-EnsembleModel' + strftime(\"%Y-%m-%d-%H-%M-%S\", gmtime())\n",
    "model_url='s3://{}/{}/{}'.format(bucket, prefix,  \"ensemble_model/\") + 'modelv3.tar.gz'\n",
    "image_uri = '{}.dkr.ecr.{}.amazonaws.com/{}:{}'.format(account_id, region, repo_name,image_tag)\n",
    "\n",
    "print('Model name: ' + model_name)\n",
    "print('Model data Url: ' + model_url)\n",
    "print('Container image: ' + image_uri)\n",
    "\n",
    "container = {\n",
    "    'Image': image_uri,\n",
    "    'ModelDataUrl': model_url,\n",
    "    'Mode': 'SingleModel'\n",
    "}\n",
    "\n",
    "create_model_response = sm_client.create_model(\n",
    "    ModelName = model_name,\n",
    "    ExecutionRoleArn = role,\n",
    "    Containers = [container])\n",
    "\n",
    "print(\"Model Arn: \" + create_model_response['ModelArn'])"
   ]
  },
  {
   "cell_type": "code",
   "execution_count": 220,
   "metadata": {},
   "outputs": [
    {
     "name": "stdout",
     "output_type": "stream",
     "text": [
      "Endpoint config name: BYOC-EnsembleModelEndpointConfig-2021-04-02-14-56-03\n",
      "Endpoint config Arn: arn:aws:sagemaker:eu-west-1:436518610213:endpoint-config/byoc-ensemblemodelendpointconfig-2021-04-02-14-56-03\n"
     ]
    }
   ],
   "source": [
    "endpoint_config_name = 'BYOC-EnsembleModelEndpointConfig-' + strftime(\"%Y-%m-%d-%H-%M-%S\", gmtime())\n",
    "print('Endpoint config name: ' + endpoint_config_name)\n",
    "predictor_instance_type = 'ml.t2.large'\n",
    "create_endpoint_config_response = sm_client.create_endpoint_config(\n",
    "    EndpointConfigName = endpoint_config_name,\n",
    "    ProductionVariants=[{\n",
    "        'InstanceType': predictor_instance_type,\n",
    "        'InitialInstanceCount': 1,\n",
    "        'InitialVariantWeight': 1,\n",
    "        'ModelName': model_name,\n",
    "        'VariantName': 'AllTraffic'}])\n",
    "\n",
    "print(\"Endpoint config Arn: \" + create_endpoint_config_response['EndpointConfigArn'])"
   ]
  },
  {
   "cell_type": "markdown",
   "metadata": {},
   "source": [
    "### Deploy model endpoint (Optional)"
   ]
  },
  {
   "cell_type": "code",
   "execution_count": 221,
   "metadata": {},
   "outputs": [
    {
     "name": "stdout",
     "output_type": "stream",
     "text": [
      "Endpoint name: BYOC-EnsembleModelEndpoint-2021-04-02-14-56-25\n",
      "Endpoint Arn: arn:aws:sagemaker:eu-west-1:436518610213:endpoint/byoc-ensemblemodelendpoint-2021-04-02-14-56-25\n"
     ]
    }
   ],
   "source": [
    "import time\n",
    "\n",
    "endpoint_name = 'BYOC-EnsembleModelEndpoint-' + strftime(\"%Y-%m-%d-%H-%M-%S\", gmtime())\n",
    "print('Endpoint name: ' + endpoint_name)\n",
    "\n",
    "create_endpoint_response = sm_client.create_endpoint(\n",
    "    EndpointName=endpoint_name,\n",
    "    EndpointConfigName=endpoint_config_name)\n",
    "print('Endpoint Arn: ' + create_endpoint_response['EndpointArn'])\n",
    "\n"
   ]
  },
  {
   "cell_type": "code",
   "execution_count": 222,
   "metadata": {},
   "outputs": [
    {
     "name": "stdout",
     "output_type": "stream",
     "text": [
      "Endpoint Status: Creating\n",
      "Waiting for BYOC-EnsembleModelEndpoint-2021-04-02-14-56-25 endpoint to be in service...\n"
     ]
    }
   ],
   "source": [
    "#endpoint_name = 'BYOC-MultiModelEndpoint-2020-10-28-21-57-13'\n",
    "resp = sm_client.describe_endpoint(EndpointName=endpoint_name)\n",
    "status = resp['EndpointStatus']\n",
    "print(\"Endpoint Status: \" + status)\n",
    "\n",
    "print('Waiting for {} endpoint to be in service...'.format(endpoint_name))\n",
    "waiter = sm_client.get_waiter('endpoint_in_service')\n",
    "waiter.wait(EndpointName=endpoint_name)"
   ]
  },
  {
   "cell_type": "markdown",
   "metadata": {},
   "source": [
    "### Invoke endpoint for multiple outcome predictions (Optional)"
   ]
  },
  {
   "cell_type": "code",
   "execution_count": 223,
   "metadata": {},
   "outputs": [
    {
     "name": "stdout",
     "output_type": "stream",
     "text": [
      "BYOC-EnsembleModel2021-04-02-14-55-17\n"
     ]
    }
   ],
   "source": [
    "print(model_name)"
   ]
  },
  {
   "cell_type": "code",
   "execution_count": 224,
   "metadata": {},
   "outputs": [
    {
     "name": "stdout",
     "output_type": "stream",
     "text": [
      "BYOC-EnsembleModelEndpoint-2021-04-02-14-56-25\n"
     ]
    }
   ],
   "source": [
    "print(endpoint_name)"
   ]
  },
  {
   "cell_type": "code",
   "execution_count": null,
   "metadata": {},
   "outputs": [],
   "source": [
    "print(train_raw)"
   ]
  },
  {
   "cell_type": "code",
   "execution_count": null,
   "metadata": {},
   "outputs": [],
   "source": [
    "print(test_raw)"
   ]
  },
  {
   "cell_type": "code",
   "execution_count": 228,
   "metadata": {},
   "outputs": [
    {
     "data": {
      "text/plain": [
       "[['[0.67,0.77,0.72,]',\n",
       "  '[0.68,0.74,0.71,]',\n",
       "  '[0.74,0.86,0.80,]',\n",
       "  '[0.56,0.64,0.60,]',\n",
       "  '[0.81,0.90,0.86,]',\n",
       "  '[0.53,0.57,0.55,]',\n",
       "  '[0.60,0.83,0.71,]',\n",
       "  '[0.63,0.83,0.73,]',\n",
       "  '[0.47,0.56,0.52,]',\n",
       "  '[0.51,0.59,0.55,]',\n",
       "  '[0.52,0.64,0.58,]',\n",
       "  '[0.49,0.65,0.57,]',\n",
       "  '[0.80,0.79,0.80,]',\n",
       "  '[0.61,0.75,0.68,]',\n",
       "  '[0.38,0.59,0.48,]',\n",
       "  '[0.73,0.86,0.79,]',\n",
       "  '[0.62,0.75,0.69,]',\n",
       "  '[0.66,0.63,0.64,]',\n",
       "  '[0.71,0.88,0.79,]',\n",
       "  '[0.71,0.86,0.79,]',\n",
       "  '[0.60,0.65,0.63,]',\n",
       "  '[0.77,0.82,0.80,]',\n",
       "  '[0.46,0.59,0.53,]',\n",
       "  '[0.57,0.70,0.64,]',\n",
       "  '[0.62,0.70,0.66,]',\n",
       "  '[0.78,0.80,0.79,]',\n",
       "  '[0.43,0.58,0.50,]',\n",
       "  '[0.73,0.92,0.82,]',\n",
       "  '[0.56,0.70,0.63,]',\n",
       "  '[0.55,0.61,0.58,]',\n",
       "  '[0.63,0.78,0.70,]',\n",
       "  '[0.54,0.74,0.64,]',\n",
       "  '[0.79,0.80,0.79,]',\n",
       "  '[0.68,0.91,0.79,]',\n",
       "  '[0.70,0.91,0.80,]',\n",
       "  '[0.60,0.76,0.68,]',\n",
       "  '[0.73,0.70,0.71,]',\n",
       "  '[0.53,0.62,0.57,]',\n",
       "  '[0.81,0.83,0.82,]',\n",
       "  '[0.65,0.84,0.75,]',\n",
       "  '[0.80,0.77,0.79,]',\n",
       "  '[0.79,0.82,0.80,]',\n",
       "  '[0.80,0.83,0.82,]',\n",
       "  '[0.81,0.81,0.81,]',\n",
       "  '[0.80,0.89,0.84,]',\n",
       "  '[0.73,0.81,0.77,]',\n",
       "  '[0.80,0.83,0.81,]',\n",
       "  '[0.61,0.83,0.72,]',\n",
       "  '[0.82,0.93,0.87,]',\n",
       "  '[0.63,0.71,0.67,]',\n",
       "  '[0.79,0.66,0.73,]',\n",
       "  '[0.79,0.87,0.83,]',\n",
       "  '[0.52,0.53,0.52,]',\n",
       "  '[0.61,0.75,0.68,]',\n",
       "  '[0.78,0.83,0.80,]',\n",
       "  '[0.53,0.64,0.59,]',\n",
       "  '[0.82,0.92,0.87,]',\n",
       "  '[0.79,0.82,0.80,]',\n",
       "  '[0.82,0.92,0.87,]',\n",
       "  '[0.65,0.95,0.80,]',\n",
       "  '[0.55,0.76,0.65,]',\n",
       "  '[0.81,0.79,0.80,]',\n",
       "  '[0.77,0.63,0.70,]',\n",
       "  '[0.53,0.76,0.64,]',\n",
       "  '[0.57,0.62,0.60,]',\n",
       "  '[0.69,0.89,0.79,]',\n",
       "  '[0.71,0.83,0.77,]',\n",
       "  '[0.68,0.83,0.76,]',\n",
       "  '[0.80,0.89,0.84,]',\n",
       "  '[0.66,0.81,0.74,]',\n",
       "  '[0.78,0.73,0.75,]',\n",
       "  '[0.44,0.56,0.50,]',\n",
       "  '[0.50,0.60,0.55,]',\n",
       "  '[0.60,0.51,0.56,]',\n",
       "  '[0.64,0.82,0.73,]',\n",
       "  '[0.50,0.59,0.55,]',\n",
       "  '[0.81,0.86,0.84,]',\n",
       "  '[0.56,0.59,0.57,]',\n",
       "  '[0.79,0.88,0.84,]',\n",
       "  '[0.70,0.96,0.83,]',\n",
       "  '[0.56,0.60,0.58,]',\n",
       "  '[0.55,0.62,0.58,]',\n",
       "  '[0.59,0.69,0.64,]',\n",
       "  '[0.65,0.78,0.72,]',\n",
       "  '[0.72,0.81,0.77,]',\n",
       "  '[0.82,0.88,0.85,]',\n",
       "  '[0.52,0.65,0.58,]',\n",
       "  '[0.57,0.59,0.58,]',\n",
       "  '[0.52,0.71,0.62,]',\n",
       "  '[0.59,0.77,0.68,]',\n",
       "  '[0.61,0.71,0.66,]',\n",
       "  '[0.81,0.97,0.89,]',\n",
       "  '[0.50,0.45,0.47,]',\n",
       "  '[0.71,0.94,0.82,]',\n",
       "  '[0.50,0.54,0.52,]',\n",
       "  '[0.75,0.77,0.76,]',\n",
       "  '[0.74,0.81,0.77,]',\n",
       "  '[0.53,0.60,0.56,]',\n",
       "  '[0.81,0.88,0.85,]',\n",
       "  '[0.68,0.69,0.68,]']]"
      ]
     },
     "execution_count": 228,
     "metadata": {},
     "output_type": "execute_result"
    }
   ],
   "source": [
    "from io import StringIO\n",
    "test_dataset = sagemaker.s3.S3Downloader.read_file(test_raw)\n",
    "predictor = sagemaker.predictor.Predictor(endpoint_name, session, serializer=sagemaker.serializers.CSVSerializer(), deserializer=sagemaker.deserializers.CSVDeserializer())\n",
    "predictor.predict(test_dataset)"
   ]
  },
  {
   "cell_type": "markdown",
   "metadata": {},
   "source": [
    "## Amazon SageMaker Clarify\n",
    "Now that you have your model set up. Let's say hello to SageMaker Clarify!"
   ]
  },
  {
   "cell_type": "code",
   "execution_count": 229,
   "metadata": {},
   "outputs": [],
   "source": [
    "from sagemaker import clarify\n",
    "clarify_processor = clarify.SageMakerClarifyProcessor(role=role,\n",
    "                                                      instance_count=1,\n",
    "                                                      instance_type='ml.c4.xlarge',\n",
    "                                                      sagemaker_session=session)"
   ]
  },
  {
   "cell_type": "markdown",
   "metadata": {},
   "source": [
    "### Explaining Predictions\n",
    "There are expanding business needs and legislative regulations that require explainations of _why_ a model mades the decision it did. SageMaker Clarify uses SHAP to explain the contribution that each input feature makes to the final decision."
   ]
  },
  {
   "cell_type": "code",
   "execution_count": 230,
   "metadata": {},
   "outputs": [
    {
     "name": "stdout",
     "output_type": "stream",
     "text": [
      "['status', 'duration', 'credit_history', 'purpose', 'amount', 'savings', 'employment_duration', 'installment_rate', 'personal_status_sex', 'other_debtors', 'present_residence', 'property', 'age', 'other_installment_plans', 'housing', 'number_credits', 'job', 'people_liable', 'telephone', 'foreign_worker', 'credit_risk']\n"
     ]
    }
   ],
   "source": [
    "print(training_data.columns.to_list())"
   ]
  },
  {
   "cell_type": "code",
   "execution_count": 232,
   "metadata": {},
   "outputs": [
    {
     "name": "stdout",
     "output_type": "stream",
     "text": [
      "['status', 'duration', 'credit_history', 'purpose', 'amount', 'savings', 'employment_duration', 'installment_rate', 'personal_status_sex', 'other_debtors', 'present_residence', 'property', 'age', 'other_installment_plans', 'housing', 'number_credits', 'job', 'people_liable', 'telephone', 'foreign_worker']\n"
     ]
    }
   ],
   "source": [
    "print(test_data.columns.to_list())"
   ]
  },
  {
   "cell_type": "code",
   "execution_count": 63,
   "metadata": {},
   "outputs": [
    {
     "name": "stdout",
     "output_type": "stream",
     "text": [
      "(100, 20)\n"
     ]
    }
   ],
   "source": [
    "print(test_data.shape)"
   ]
  },
  {
   "cell_type": "markdown",
   "metadata": {},
   "source": [
    "We are interested in explaining bad credit predictions. Hence, we would like the the baseline choice to have E(x) closer to 1(belonging to the good credit class). For more information on selecting informative vs non-informative baselines, see the documentation [here](https://docs.aws.amazon.com/sagemaker/latest/dg/clarify-feature-attribute-shap-baselines.html)"
   ]
  },
  {
   "cell_type": "code",
   "execution_count": 233,
   "metadata": {},
   "outputs": [
    {
     "name": "stdout",
     "output_type": "stream",
     "text": [
      "[4, 24, 2, 3, 1258, 1, 3, 4, 3, 1, 4, 3, 27, 3, 2, 1, 3, 2, 1, 2]\n",
      "[['[0.80,0.76,0.78,]']]\n"
     ]
    }
   ],
   "source": [
    "#we use the mode of training data as baseline for SHAP , must be same data type (int) as input features\n",
    "baseline = training_data.drop(['credit_risk'], axis = 1).mode().iloc[0].values.astype('int').tolist()\n",
    "print(baseline)\n",
    "#check baseline prediction E[(x)] \n",
    "pred_baseline = predictor.predict(baseline)\n",
    "print(pred_baseline)"
   ]
  },
  {
   "cell_type": "code",
   "execution_count": 237,
   "metadata": {},
   "outputs": [],
   "source": [
    "# Refer the api documentation here https://sagemaker.readthedocs.io/en/stable/api/training/processing.html#sagemaker.clarify.SHAPConfig\n",
    "shap_config = clarify.SHAPConfig(baseline=[baseline],\n",
    "                                 num_samples=2000, #num_samples are permutations from your features, so should be large enough as compared to number of input features, for example, 2k + 2* num_features\n",
    "                                 agg_method='mean_abs',\n",
    "                                 use_logit=True) #we want the shap values to have log-odds units so that the equation 'shap values + expected probability =  predicted probability' for each instance record )\n",
    "\n",
    "explainability_output_path = 's3://{}/{}/clarify-explainability-3'.format(bucket, prefix)\n",
    "\n",
    "explainability_data_config = clarify.DataConfig(s3_data_input_path=test_raw,\n",
    "                                s3_output_path=explainability_output_path,\n",
    "                                #label='credit_risk', # target column is not present in the test dataset\n",
    "                                headers=test_data.columns.to_list(),\n",
    "                                dataset_type='text/csv')\n",
    "\n",
    "model_config = clarify.ModelConfig(model_name=model_name,\n",
    "                                   instance_type='ml.c5.xlarge',\n",
    "                                   instance_count=1,\n",
    "                                   accept_type='text/csv')"
   ]
  },
  {
   "cell_type": "code",
   "execution_count": 235,
   "metadata": {},
   "outputs": [
    {
     "name": "stdout",
     "output_type": "stream",
     "text": [
      "\n",
      "Job Name:  Clarify-Explainability-2021-04-02-15-21-15-466\n",
      "Inputs:  [{'InputName': 'dataset', 'AppManaged': False, 'S3Input': {'S3Uri': 's3://sagemaker-eu-west-1-436518610213/sagemaker/sagemaker-clarify-credit-risk-ensemble-model/data/test/test.csv', 'LocalPath': '/opt/ml/processing/input/data', 'S3DataType': 'S3Prefix', 'S3InputMode': 'File', 'S3DataDistributionType': 'FullyReplicated', 'S3CompressionType': 'None'}}, {'InputName': 'analysis_config', 'AppManaged': False, 'S3Input': {'S3Uri': 's3://sagemaker-eu-west-1-436518610213/sagemaker/sagemaker-clarify-credit-risk-ensemble-model/clarify-explainability-3/analysis_config.json', 'LocalPath': '/opt/ml/processing/input/config', 'S3DataType': 'S3Prefix', 'S3InputMode': 'File', 'S3DataDistributionType': 'FullyReplicated', 'S3CompressionType': 'None'}}]\n",
      "Outputs:  [{'OutputName': 'analysis_result', 'AppManaged': False, 'S3Output': {'S3Uri': 's3://sagemaker-eu-west-1-436518610213/sagemaker/sagemaker-clarify-credit-risk-ensemble-model/clarify-explainability-3', 'LocalPath': '/opt/ml/processing/output', 'S3UploadMode': 'EndOfJob'}}]\n",
      "...............................\u001b[34mINFO:sagemaker-clarify-processing:Starting SageMaker Clarify Processing job\u001b[0m\n",
      "\u001b[34mINFO:analyzer.data_loading.data_loader_util:Analysis config path: /opt/ml/processing/input/config\u001b[0m\n",
      "\u001b[34mINFO:analyzer.data_loading.data_loader_util:Analysis result path: /opt/ml/processing/output\u001b[0m\n",
      "\u001b[34mINFO:analyzer.data_loading.data_loader_util:This host is algo-1.\u001b[0m\n",
      "\u001b[34mINFO:analyzer.data_loading.data_loader_util:This host is the leader.\u001b[0m\n",
      "\u001b[34mINFO:analyzer.data_loading.data_loader_util:Number of hosts in the cluster is 1.\u001b[0m\n",
      "\u001b[34mINFO:sagemaker-clarify-processing:Running Python / Pandas based analyzer.\u001b[0m\n",
      "\u001b[34mINFO:analyzer.data_loading.data_loader_util:Dataset uri: /opt/ml/processing/input/data\u001b[0m\n",
      "\u001b[34mINFO:analyzer.data_loading.data_loader_util:Dataset type: text/csv\u001b[0m\n",
      "\u001b[34mINFO:analyzer.util:predictor label configuration will be used as probability configuration\u001b[0m\n",
      "\u001b[34mINFO:analyzer.predictor:Spinning up shadow endpoint\u001b[0m\n",
      "\u001b[34mINFO:sagemaker:Creating endpoint-config with name sagemaker-clarify-endpoint-config-1617377179-77c5\u001b[0m\n",
      "\u001b[34mINFO:analyzer.predictor:Creating endpoint sagemaker-clarify-endpoint-1617377179-912d\u001b[0m\n",
      "\u001b[34mINFO:explainers.shap.kernel_shap:SHAP n_samples 2000\u001b[0m\n",
      "\u001b[34mINFO:analyzer.predictor:Checking endpoint status\u001b[0m\n",
      "\u001b[34mINFO:analyzer.predictor:Endpoint is in service after 421 seconds\u001b[0m\n",
      "\u001b[34mINFO:analyzer.shap_analyzer:=====================================================\u001b[0m\n",
      "\u001b[34mINFO:analyzer.shap_analyzer:Shap analyzer: explaining 100 rows, 20 columns...\u001b[0m\n",
      "\u001b[34mINFO:analyzer.shap_analyzer:=====================================================\u001b[0m\n",
      "\u001b[34mINFO:analyzer.predictor:Prediction batch size is initialized with 139810\u001b[0m\n",
      "\u001b[34mN/A% (0 of 100) |                        | Elapsed Time: 0:00:00 ETA:  --:--:--\u001b[0m\n",
      "\u001b[34m 70% (70 of 100) |################       | Elapsed Time: 0:00:30 ETA:   0:00:12\u001b[0m\n",
      "\u001b[34m100% (100 of 100) |######################| Elapsed Time: 0:00:42 Time:  0:00:42\u001b[0m\n",
      "\u001b[34mINFO:analyzer.shap_analyzer:getting explanations took 43.47 seconds.\u001b[0m\n",
      "\u001b[34mINFO:analyzer.shap_analyzer:===================================================\u001b[0m\n",
      "\u001b[34mINFO:analyzer.shap_analyzer:converting explanations to tabular took 0.03 seconds.\u001b[0m\n",
      "\u001b[34mINFO:analyzer.shap_analyzer:===================================================\u001b[0m\n",
      "\u001b[34mINFO:analyzer.shap_analyzer:Wrote 100 local explanations to: /opt/ml/processing/output/explanations_shap/out.csv, baseline used compute them to: /opt/ml/processing/output/explanations_shap/baseline.csv\u001b[0m\n",
      "\u001b[34mINFO:analyzer.shap_analyzer:writing local explanations took 0.02 seconds.\u001b[0m\n",
      "\u001b[34mINFO:analyzer.shap_analyzer:===================================================\u001b[0m\n",
      "\u001b[34mINFO:analyzer.shap_analyzer:aggregating local explanations took 0.01 seconds.\u001b[0m\n",
      "\u001b[34mINFO:analyzer.shap_analyzer:===================================================\u001b[0m\n",
      "\u001b[34mINFO:analyzer.shap_analyzer:Shap analysis finished.\u001b[0m\n",
      "\u001b[34mINFO:analyzer.predictor:Stop using endpoint: sagemaker-clarify-endpoint-1617377179-912d\u001b[0m\n",
      "\u001b[34mINFO:sagemaker:Deleting endpoint configuration with name: sagemaker-clarify-endpoint-config-1617377179-77c5\u001b[0m\n",
      "\u001b[34mINFO:sagemaker:Deleting endpoint with name: sagemaker-clarify-endpoint-1617377179-912d\u001b[0m\n",
      "\u001b[34mINFO:analyzer.predictor:Model endpoint delivered 2.30049 requests per second and a total of 101 requests over 44 seconds\u001b[0m\n",
      "\u001b[34mINFO:analyzer.predictor:Delivered 101 predict calls with a total of 200101 examples.\u001b[0m\n",
      "\u001b[34m[NbConvertApp] Converting notebook /opt/ml/processing/output/report.ipynb to html\u001b[0m\n",
      "\u001b[34m[NbConvertApp] Writing 383722 bytes to /opt/ml/processing/output/report.html\u001b[0m\n",
      "\u001b[34mINFO:analyzer.report:HTML report '/opt/ml/processing/output/report.html' generated successfully.\u001b[0m\n",
      "\u001b[34mINFO:analyzer.report:PDF report '/opt/ml/processing/output/report.pdf' generated successfully.\u001b[0m\n",
      "\u001b[34mINFO:sagemaker-clarify-processing:Collected analyses: \u001b[0m\n",
      "\u001b[34m{\n",
      "    \"version\": \"1.0\",\n",
      "    \"explanations\": {\n",
      "        \"kernel_shap\": {\n",
      "            \"label0\": {\n",
      "                \"global_shap_values\": {\n",
      "                    \"status\": 0.7474515657097769,\n",
      "                    \"duration\": 0.059207235954324276,\n",
      "                    \"credit_history\": 0.03716135397559864,\n",
      "                    \"purpose\": 0.018836609782641775,\n",
      "                    \"amount\": 0.07450684276935983,\n",
      "                    \"savings\": 0.03597089656149822,\n",
      "                    \"employment_duration\": 0.040045535124532385,\n",
      "                    \"installment_rate\": 0.015562443947156428,\n",
      "                    \"personal_status_sex\": 0.006763104012296862,\n",
      "                    \"other_debtors\": 0.009385457619691465,\n",
      "                    \"present_residence\": 0.01019457189151343,\n",
      "                    \"property\": 0.012468470501991197,\n",
      "                    \"age\": 0.03288449403650938,\n",
      "                    \"other_installment_plans\": 0.017255216852247072,\n",
      "                    \"housing\": 0.006317851789389088,\n",
      "                    \"number_credits\": 0.005442809693700613,\n",
      "                    \"job\": 0.006543883291405471,\n",
      "                    \"people_liable\": 0.00493092634150527,\n",
      "                    \"telephone\": 0.005622333150047681,\n",
      "                    \"foreign_worker\": 0.00583527161924898\n",
      "                },\n",
      "                \"expected_value\": 1.3862943611198908\n",
      "            },\n",
      "            \"label1\": {\n",
      "                \"global_shap_values\": {\n",
      "                    \"status\": 0.2536106041892151,\n",
      "                    \"duration\": 0.3273459820459522,\n",
      "                    \"credit_history\": 0.11161781691067539,\n",
      "                    \"purpose\": 0.12377748718344009,\n",
      "                    \"amount\": 0.07858926451354968,\n",
      "                    \"savings\": 0.11655583278651906,\n",
      "                    \"employment_duration\": 0.044530430692512904,\n",
      "                    \"installment_rate\": 0.043242064318149344,\n",
      "                    \"personal_status_sex\": 0.07303317814604485,\n",
      "                    \"other_debtors\": 0.022505220960006334,\n",
      "                    \"present_residence\": 0.010829781421176642,\n",
      "                    \"property\": 0.06107329925201319,\n",
      "                    \"age\": 0.2109349966949045,\n",
      "                    \"other_installment_plans\": 0.030917192376892045,\n",
      "                    \"housing\": 0.047698732694515834,\n",
      "                    \"number_credits\": 0.020661838483297897,\n",
      "                    \"job\": 0.014814019262712174,\n",
      "                    \"people_liable\": 0.004188678069744249,\n",
      "                    \"telephone\": 0.06634413396452225,\n",
      "                    \"foreign_worker\": 0.015092127504744354\n",
      "                },\n",
      "                \"expected_value\": 1.1526795099383855\n",
      "            },\n",
      "            \"label2\": {\n",
      "                \"global_shap_values\": {\n",
      "                    \"status\": 0.5064513750924176,\n",
      "                    \"duration\": 0.18656362093019033,\n",
      "                    \"credit_history\": 0.06981727629434242,\n",
      "                    \"purpose\": 0.07092406166904516,\n",
      "                    \"amount\": 0.06396505825913854,\n",
      "                    \"savings\": 0.07325182384980146,\n",
      "                    \"employment_duration\": 0.043949831886421924,\n",
      "                    \"installment_rate\": 0.027805444556838275,\n",
      "                    \"personal_status_sex\": 0.039388231508113644,\n",
      "                    \"other_debtors\": 0.014131321210073376,\n",
      "                    \"present_residence\": 0.005550324170997022,\n",
      "                    \"property\": 0.03385343278398025,\n",
      "                    \"age\": 0.1145903165339399,\n",
      "                    \"other_installment_plans\": 0.02339226446379745,\n",
      "                    \"housing\": 0.0255145325043906,\n",
      "                    \"number_credits\": 0.008784740205184762,\n",
      "                    \"job\": 0.010028134389501136,\n",
      "                    \"people_liable\": 0.003404025272679883,\n",
      "                    \"telephone\": 0.030606127716131803,\n",
      "                    \"foreign_worker\": 0.009059908763929302\n",
      "                },\n",
      "                \"expected_value\": 1.265666373331276\n",
      "            }\n",
      "        }\n",
      "    }\u001b[0m\n",
      "\u001b[34m}\u001b[0m\n",
      "\u001b[34mINFO:analyzer.system_util:exit_message: Completed: SageMaker XAI Analyzer ran successfully\u001b[0m\n",
      "\u001b[34m-------!\u001b[0m\n",
      "\n"
     ]
    }
   ],
   "source": [
    "#we define model_scores=0 to indicate that the first index is the predicted value and it consists of a tuple of values for each model outcome\n",
    "clarify_processor.run_explainability(data_config=explainability_data_config,\n",
    "                                     model_config=model_config,\n",
    "                                     explainability_config=shap_config,model_scores=0)"
   ]
  },
  {
   "cell_type": "markdown",
   "metadata": {},
   "source": [
    "#### Viewing the Explainability Report\n",
    "You can view the explainability report in Studio under the experiments tab\n",
    "\n",
    "\n",
    "<img src=\"./recordings/explainability_detail.gif\">\n",
    "\n",
    "The Model Insights tab contains direct links to the report and model insights.\n",
    "\n",
    "If you're not a Studio user yet, as with the Bias Report, you can access this report at the following S3 bucket."
   ]
  },
  {
   "cell_type": "code",
   "execution_count": null,
   "metadata": {},
   "outputs": [],
   "source": [
    "explainability_output_path"
   ]
  },
  {
   "cell_type": "markdown",
   "metadata": {},
   "source": [
    "## Look at individual ensemble  predictions of bad credit in the test dataset and their corresponding SHAP values "
   ]
  },
  {
   "cell_type": "code",
   "execution_count": 151,
   "metadata": {},
   "outputs": [
    {
     "name": "stdout",
     "output_type": "stream",
     "text": [
      "(100, 60)\n",
      "<class 'list'>\n",
      "base value:  1.4500101755059986\n",
      "(100, 20)\n"
     ]
    }
   ],
   "source": [
    "from sagemaker.s3 import S3Downloader\n",
    "import json\n",
    "import io\n",
    "\n",
    "# read the shap values\n",
    "S3Downloader.download(s3_uri=explainability_output_path+\"/explanations_shap\", local_path=\"output\")\n",
    "shap_values_df = pd.read_csv(\"output/out.csv\")\n",
    "print(shap_values_df.shape)\n",
    "\n",
    "# read the inference results\n",
    "print(type(predictions[0]))\n",
    "predictions_df = pd.read_csv(io.StringIO('\\n'.join(predictions[0])), delim_whitespace=True,header=None)\n",
    "predictions_df.columns = ['result']\n",
    "#print((predictions_df['result'].tolist()[0]))\n",
    "predictions_df['ensemble_prob'] =  predictions_df.apply (lambda row: row['result'][11:15], axis=1)\n",
    "\n",
    "# get the base expected value to be used to plot SHAP values\n",
    "S3Downloader.download(s3_uri=explainability_output_path+\"/analysis.json\", local_path=\"output\")\n",
    "\n",
    "with open('output/analysis.json') as json_file:\n",
    "    data = json.load(json_file)\n",
    "    base_value = data['explanations']['kernel_shap']['label2']['expected_value']\n",
    "\n",
    "print(\"base value: \", base_value)\n",
    "\n",
    "# join the probability score and shap values together in a single data frame\n",
    "predictions_df.reset_index(drop=True, inplace=True)\n",
    "shap_values_df.reset_index(drop=True, inplace=True)\n",
    "test_data.reset_index(drop=True, inplace=True)\n",
    "prediction_shap_df = pd.concat([predictions_df,shap_values_df,test_data],axis=1)\n",
    "#print(prediction_shap_df)\n",
    "print(test_data.shape)\n",
    "prediction_shap_df[\"ensemble_prob\"] = pd.to_numeric(prediction_shap_df[\"ensemble_prob\"], downcast=\"float\")\n",
    "#create a new column as 'Prediction' converting the ensemble probability to either 1 or 0\n",
    "prediction_shap_df.insert(0,'Prediction', (prediction_shap_df['ensemble_prob'] > 0.5).astype(int))\n",
    "bad_credit_outcomes_df = prediction_shap_df[prediction_shap_df.iloc[:, 0] == 0]\n",
    "#print(bad_credit_outcomes_df)"
   ]
  },
  {
   "cell_type": "markdown",
   "metadata": {},
   "source": [
    "#### Install open source SHAP library for more visualizations"
   ]
  },
  {
   "cell_type": "code",
   "execution_count": 78,
   "metadata": {},
   "outputs": [
    {
     "name": "stdout",
     "output_type": "stream",
     "text": [
      "Collecting package metadata (current_repodata.json): done\n",
      "Solving environment: done\n",
      "\n",
      "\n",
      "==> WARNING: A newer version of conda exists. <==\n",
      "  current version: 4.8.2\n",
      "  latest version: 4.9.2\n",
      "\n",
      "Please update conda by running\n",
      "\n",
      "    $ conda update -n base -c defaults conda\n",
      "\n",
      "\n",
      "\n",
      "## Package Plan ##\n",
      "\n",
      "  environment location: /opt/conda\n",
      "\n",
      "  added / updated specs:\n",
      "    - shap\n",
      "\n",
      "\n",
      "The following packages will be downloaded:\n",
      "\n",
      "    package                    |            build\n",
      "    ---------------------------|-----------------\n",
      "    conda-4.10.0               |   py37h89c1867_0         3.1 MB  conda-forge\n",
      "    python_abi-3.7             |          1_cp37m           4 KB  conda-forge\n",
      "    shap-0.37.0                |   py37h10a2094_0         510 KB  conda-forge\n",
      "    slicer-0.0.7               |     pyhd8ed1ab_0          16 KB  conda-forge\n",
      "    ------------------------------------------------------------\n",
      "                                           Total:         3.6 MB\n",
      "\n",
      "The following NEW packages will be INSTALLED:\n",
      "\n",
      "  python_abi         conda-forge/linux-64::python_abi-3.7-1_cp37m\n",
      "  shap               conda-forge/linux-64::shap-0.37.0-py37h10a2094_0\n",
      "  slicer             conda-forge/noarch::slicer-0.0.7-pyhd8ed1ab_0\n",
      "\n",
      "The following packages will be UPDATED:\n",
      "\n",
      "  conda                       pkgs/main::conda-4.8.2-py37_0 --> conda-forge::conda-4.10.0-py37h89c1867_0\n",
      "\n",
      "\n",
      "\n",
      "Downloading and Extracting Packages\n",
      "shap-0.37.0          | 510 KB    | ##################################### | 100% \n",
      "slicer-0.0.7         | 16 KB     | ##################################### | 100% \n",
      "conda-4.10.0         | 3.1 MB    | ##################################### | 100% \n",
      "python_abi-3.7       | 4 KB      | ##################################### | 100% \n",
      "Preparing transaction: done\n",
      "Verifying transaction: done\n",
      "Executing transaction: done\n"
     ]
    }
   ],
   "source": [
    "!conda install -c conda-forge shap -y"
   ]
  },
  {
   "cell_type": "code",
   "execution_count": 79,
   "metadata": {},
   "outputs": [],
   "source": [
    "import shap"
   ]
  },
  {
   "cell_type": "markdown",
   "metadata": {},
   "source": [
    "#### SHAP summary plot for each individual bad credit prediction instance in the dataset"
   ]
  },
  {
   "cell_type": "code",
   "execution_count": 152,
   "metadata": {},
   "outputs": [
    {
     "data": {
      "image/png": "[encoded data removed]",
      "text/plain": [
       "<Figure size 576x684 with 2 Axes>"
      ]
     },
     "metadata": {
      "needs_background": "light"
     },
     "output_type": "display_data"
    }
   ],
   "source": [
    "shap.summary_plot(bad_credit_outcomes_df.iloc[:,43:63].to_numpy(), bad_credit_outcomes_df.iloc[:,63:83].to_numpy(),feature_names=test_data.columns)"
   ]
  },
  {
   "cell_type": "markdown",
   "metadata": {},
   "source": [
    "#### SHAP explanation plot for a single bad credit ensemble prediction instance "
   ]
  },
  {
   "cell_type": "code",
   "execution_count": 81,
   "metadata": {},
   "outputs": [
    {
     "name": "stdout",
     "output_type": "stream",
     "text": [
      "Requirement already satisfied: matplotlib in /opt/conda/lib/python3.7/site-packages (3.3.4)\n",
      "Requirement already satisfied: kiwisolver>=1.0.1 in /opt/conda/lib/python3.7/site-packages (from matplotlib) (1.1.0)\n",
      "Requirement already satisfied: numpy>=1.15 in /opt/conda/lib/python3.7/site-packages (from matplotlib) (1.18.1)\n",
      "Requirement already satisfied: pyparsing!=2.0.4,!=2.1.2,!=2.1.6,>=2.0.3 in /opt/conda/lib/python3.7/site-packages (from matplotlib) (2.4.6)\n",
      "Requirement already satisfied: pillow>=6.2.0 in /opt/conda/lib/python3.7/site-packages (from matplotlib) (7.0.0)\n",
      "Requirement already satisfied: cycler>=0.10 in /opt/conda/lib/python3.7/site-packages (from matplotlib) (0.10.0)\n",
      "Requirement already satisfied: python-dateutil>=2.1 in /opt/conda/lib/python3.7/site-packages (from matplotlib) (2.8.1)\n",
      "Requirement already satisfied: setuptools in /opt/conda/lib/python3.7/site-packages (from kiwisolver>=1.0.1->matplotlib) (45.2.0.post20200210)\n",
      "Requirement already satisfied: six in /opt/conda/lib/python3.7/site-packages (from cycler>=0.10->matplotlib) (1.14.0)\n"
     ]
    }
   ],
   "source": [
    "!pip install matplotlib"
   ]
  },
  {
   "cell_type": "code",
   "execution_count": 160,
   "metadata": {},
   "outputs": [
    {
     "name": "stdout",
     "output_type": "stream",
     "text": [
      "71\n",
      "mean probability of dataset\n",
      "ensemble_prob    0.7447\n",
      "dtype: float32\n",
      "individual probability\n",
      "0.29\n",
      "sum of shap values\n",
      "-0.30811709449032854\n",
      "base value from analysis.json\n",
      "1.4500101755059986\n"
     ]
    }
   ],
   "source": [
    "import matplotlib.pyplot as plt\n",
    "min_index = prediction_shap_df['ensemble_prob'].idxmin()\n",
    "print(min_index)\n",
    "print('mean probability of dataset')\n",
    "print(prediction_shap_df[['ensemble_prob']].mean())\n",
    "print('individual probability')\n",
    "print(prediction_shap_df.iloc[71,2])\n",
    "print('sum of shap values')\n",
    "print(prediction_shap_df.iloc[71,43:63].sum())\n",
    "print('base value from analysis.json')\n",
    "print(base_value)"
   ]
  },
  {
   "cell_type": "markdown",
   "metadata": {},
   "source": [
    "Example 'bad credit ' prediction SHAP values.\n",
    "Note that by default SHAP explains classifer models in terms of their margin output, before the logistic link function. That means the units on the x-axis are log-odds units, so negative values imply probabilies of less than 0.5 meaning bad credit. \n",
    "The following is expected to hold true : \n",
    "\n",
    "E(y) < 0 implies average probability less than 0.5 (bad credit baseline)\n",
    "\n",
    "E(y) > 0 implies average probability greater than  0.5 (good credit baseline)\n",
    "\n",
    "y < 0 implies predicted probability less than 0.5 (bad credit)\n",
    "\n",
    "y > 0 implies predicted probability greater than  0.5 (good credit) \n",
    "\n",
    "sum(SHAP values) + E(y)) == model_prediction_logit\n",
    "\n",
    "logistic(model_prediction_logit) = model_prediction_probability\n"
   ]
  },
  {
   "cell_type": "code",
   "execution_count": 240,
   "metadata": {},
   "outputs": [
    {
     "data": {
      "image/png": "[encoded data removed]",
      "text/plain": [
       "<Figure size 576x828 with 3 Axes>"
      ]
     },
     "metadata": {},
     "output_type": "display_data"
    }
   ],
   "source": [
    "explanation_obj = shap._explanation.Explanation(values=prediction_shap_df.iloc[min_index,43:63].to_numpy(), base_values=base_value, data=test_data.iloc[min_index].to_numpy(),feature_names=test_data.columns)\n",
    "shap.plots.waterfall(shap_values=explanation_obj, max_display=20, show=False)"
   ]
  },
  {
   "cell_type": "markdown",
   "metadata": {},
   "source": [
    "### Bias metrics"
   ]
  },
  {
   "cell_type": "code",
   "execution_count": 87,
   "metadata": {},
   "outputs": [
    {
     "name": "stdout",
     "output_type": "stream",
     "text": [
      "['status', 'duration', 'credit_history', 'purpose', 'amount', 'savings', 'employment_duration', 'installment_rate', 'personal_status_sex', 'other_debtors', 'present_residence', 'property', 'age', 'other_installment_plans', 'housing', 'number_credits', 'job', 'people_liable', 'telephone', 'foreign_worker', 'credit_risk']\n"
     ]
    }
   ],
   "source": [
    "print(training_data.columns.to_list())"
   ]
  },
  {
   "cell_type": "code",
   "execution_count": 96,
   "metadata": {},
   "outputs": [],
   "source": [
    "bias_report_output_path = 's3://{}/{}/clarify-bias'.format(bucket, prefix)\n",
    "bias_data_config = clarify.DataConfig(s3_data_input_path=train_raw,\n",
    "                                      s3_output_path=bias_report_output_path,\n",
    "                                      label='credit_risk',\n",
    "                                      headers=training_data.columns.to_list(),\n",
    "                                      dataset_type='text/csv')\n",
    "predictions_config = clarify.ModelPredictedLabelConfig(label=None,probability=0)"
   ]
  },
  {
   "cell_type": "code",
   "execution_count": 97,
   "metadata": {},
   "outputs": [],
   "source": [
    "bias_config = clarify.BiasConfig(label_values_or_threshold=[1],\n",
    "                                facet_name='age',\n",
    "                                facet_values_or_threshold=[40],\n",
    "                                group_name='personal_status_sex')"
   ]
  },
  {
   "cell_type": "code",
   "execution_count": 98,
   "metadata": {},
   "outputs": [
    {
     "name": "stdout",
     "output_type": "stream",
     "text": [
      "\n",
      "Job Name:  Clarify-Bias-2021-04-01-06-46-40-780\n",
      "Inputs:  [{'InputName': 'dataset', 'AppManaged': False, 'S3Input': {'S3Uri': 's3://sagemaker-eu-west-1-436518610213/sagemaker/sagemaker-clarify-credit-risk-ensemble-model/data/train/train.csv', 'LocalPath': '/opt/ml/processing/input/data', 'S3DataType': 'S3Prefix', 'S3InputMode': 'File', 'S3DataDistributionType': 'FullyReplicated', 'S3CompressionType': 'None'}}, {'InputName': 'analysis_config', 'AppManaged': False, 'S3Input': {'S3Uri': 's3://sagemaker-eu-west-1-436518610213/sagemaker/sagemaker-clarify-credit-risk-ensemble-model/clarify-bias/analysis_config.json', 'LocalPath': '/opt/ml/processing/input/config', 'S3DataType': 'S3Prefix', 'S3InputMode': 'File', 'S3DataDistributionType': 'FullyReplicated', 'S3CompressionType': 'None'}}]\n",
      "Outputs:  [{'OutputName': 'analysis_result', 'AppManaged': False, 'S3Output': {'S3Uri': 's3://sagemaker-eu-west-1-436518610213/sagemaker/sagemaker-clarify-credit-risk-ensemble-model/clarify-bias', 'LocalPath': '/opt/ml/processing/output', 'S3UploadMode': 'EndOfJob'}}]\n",
      "................................\u001b[34mINFO:sagemaker-clarify-processing:Starting SageMaker Clarify Processing job\u001b[0m\n",
      "\u001b[34mINFO:analyzer.data_loading.data_loader_util:Analysis config path: /opt/ml/processing/input/config\u001b[0m\n",
      "\u001b[34mINFO:analyzer.data_loading.data_loader_util:Analysis result path: /opt/ml/processing/output\u001b[0m\n",
      "\u001b[34mINFO:analyzer.data_loading.data_loader_util:This host is algo-1.\u001b[0m\n",
      "\u001b[34mINFO:analyzer.data_loading.data_loader_util:This host is the leader.\u001b[0m\n",
      "\u001b[34mINFO:analyzer.data_loading.data_loader_util:Number of hosts in the cluster is 1.\u001b[0m\n",
      "\u001b[34mINFO:sagemaker-clarify-processing:Running Python / Pandas based analyzer.\u001b[0m\n",
      "\u001b[34mINFO:analyzer.data_loading.data_loader_util:Dataset uri: /opt/ml/processing/input/data\u001b[0m\n",
      "\u001b[34mINFO:analyzer.data_loading.data_loader_util:Dataset type: text/csv\u001b[0m\n",
      "\u001b[34mINFO:analyzer.predictor:Spinning up shadow endpoint\u001b[0m\n",
      "\u001b[34mINFO:sagemaker:Creating endpoint-config with name sagemaker-clarify-endpoint-config-1617259911-8c5b\u001b[0m\n",
      "\u001b[34mINFO:analyzer.predictor:Creating endpoint sagemaker-clarify-endpoint-1617259911-61da\u001b[0m\n",
      "\u001b[34mINFO:sagemaker-clarify-processing:======================================\u001b[0m\n",
      "\u001b[34mINFO:sagemaker-clarify-processing:Calculating post-training bias metrics\u001b[0m\n",
      "\u001b[34mINFO:sagemaker-clarify-processing:======================================\u001b[0m\n",
      "\u001b[34mINFO:sagemaker-clarify-processing:Getting predictions from the endpoint\u001b[0m\n",
      "\u001b[34mINFO:analyzer.predictor:Checking endpoint status\u001b[0m\n",
      "\u001b[34mINFO:analyzer.predictor:Endpoint is in service after 421 seconds\u001b[0m\n",
      "\u001b[34mINFO:analyzer.predictor:Prediction batch size is initialized with 139810\u001b[0m\n",
      "\u001b[34mINFO:analyzer.prediction_util:We assume a prediction above 0.500 indicates 1 and below or equal indicates 0.\u001b[0m\n",
      "\u001b[34mINFO:smclarify.bias.metrics.common:data uniqueness fraction: 0.002\u001b[0m\n",
      "\u001b[34mINFO:smclarify.bias.metrics.common:data uniqueness fraction: 0.002\u001b[0m\n",
      "\u001b[34mINFO:smclarify.bias.metrics.common:data uniqueness fraction: 0.002\u001b[0m\n",
      "\u001b[34mINFO:smclarify.bias.metrics.common:data uniqueness fraction: 0.002\u001b[0m\n",
      "\u001b[34mINFO:smclarify.bias.metrics.common:data uniqueness fraction: 0.053\u001b[0m\n",
      "\u001b[34mINFO:smclarify.bias.report:Threshold Interval indices: IntervalIndex([(40, 75]],\n",
      "              closed='right',\n",
      "              dtype='interval[int64]')\u001b[0m\n",
      "\u001b[34mINFO:analyzer.predictor:Stop using endpoint: sagemaker-clarify-endpoint-1617259911-61da\u001b[0m\n",
      "\u001b[34mINFO:sagemaker:Deleting endpoint configuration with name: sagemaker-clarify-endpoint-config-1617259911-8c5b\u001b[0m\n",
      "\u001b[34mINFO:sagemaker:Deleting endpoint with name: sagemaker-clarify-endpoint-1617259911-61da\u001b[0m\n",
      "\u001b[34mINFO:analyzer.predictor:Model endpoint delivered 0.82519 requests per second and a total of 1 requests over 1 seconds\u001b[0m\n",
      "\u001b[34mINFO:analyzer.predictor:Delivered 1 predict calls with a total of 1000 examples.\u001b[0m\n",
      "\u001b[34mINFO:analyzer.predictor:Stop using endpoint: None\u001b[0m\n",
      "\u001b[34mINFO:analyzer.predictor:Delivered 1 predict calls with a total of 1000 examples.\u001b[0m\n",
      "\u001b[34mINFO:sagemaker-clarify-processing:=====================================\u001b[0m\n",
      "\u001b[34mINFO:sagemaker-clarify-processing:Calculating pre-training bias metrics\u001b[0m\n",
      "\u001b[34mINFO:sagemaker-clarify-processing:=====================================\u001b[0m\n",
      "\u001b[34mINFO:smclarify.bias.metrics.common:data uniqueness fraction: 0.002\u001b[0m\n",
      "\u001b[34mINFO:smclarify.bias.metrics.common:data uniqueness fraction: 0.002\u001b[0m\n",
      "\u001b[34mINFO:smclarify.bias.metrics.common:data uniqueness fraction: 0.053\u001b[0m\n",
      "\u001b[34mINFO:smclarify.bias.report:Threshold Interval indices: IntervalIndex([(40, 75]],\n",
      "              closed='right',\n",
      "              dtype='interval[int64]')\u001b[0m\n",
      "\u001b[34m[NbConvertApp] Converting notebook /opt/ml/processing/output/report.ipynb to html\u001b[0m\n",
      "\u001b[34m[NbConvertApp] Writing 276955 bytes to /opt/ml/processing/output/report.html\u001b[0m\n",
      "\u001b[34mINFO:analyzer.report:HTML report '/opt/ml/processing/output/report.html' generated successfully.\u001b[0m\n",
      "\u001b[34mINFO:analyzer.report:PDF report '/opt/ml/processing/output/report.pdf' generated successfully.\u001b[0m\n",
      "\u001b[34mINFO:sagemaker-clarify-processing:Collected analyses: \u001b[0m\n",
      "\u001b[34m{\n",
      "    \"version\": \"1.0\",\n",
      "    \"post_training_bias_metrics\": {\n",
      "        \"label\": \"credit_risk\",\n",
      "        \"facets\": {\n",
      "            \"age\": [\n",
      "                {\n",
      "                    \"value_or_threshold\": \"(40, 75]\",\n",
      "                    \"metrics\": [\n",
      "                        {\n",
      "                            \"name\": \"AD\",\n",
      "                            \"description\": \"Accuracy Difference (AD)\",\n",
      "                            \"value\": 0.007514544279250246\n",
      "                        },\n",
      "                        {\n",
      "                            \"name\": \"CDDPL\",\n",
      "                            \"description\": \"Conditional Demographic Disparity in Predicted Labels (CDDPL)\",\n",
      "                            \"value\": -0.020352507354051277\n",
      "                        },\n",
      "                        {\n",
      "                            \"name\": \"DAR\",\n",
      "                            \"description\": \"Difference in Acceptance Rates (DAR)\",\n",
      "                            \"value\": -0.01145962732919259\n",
      "                        },\n",
      "                        {\n",
      "                            \"name\": \"DCA\",\n",
      "                            \"description\": \"Difference in Conditional Acceptance (DCA)\",\n",
      "                            \"value\": -0.02329192546583858\n",
      "                        },\n",
      "                        {\n",
      "                            \"name\": \"DCR\",\n",
      "                            \"description\": \"Difference in Conditional Rejection (DCR)\",\n",
      "                            \"value\": 0.009803921568627416\n",
      "                        },\n",
      "                        {\n",
      "                            \"name\": \"DI\",\n",
      "                            \"description\": \"Disparate Impact (DI)\",\n",
      "                            \"value\": 1.0426598465473145\n",
      "                        },\n",
      "                        {\n",
      "                            \"name\": \"DPPL\",\n",
      "                            \"description\": \"Difference in Positive Proportions in Predicted Labels (DPPL)\",\n",
      "                            \"value\": -0.03369424692954104\n",
      "                        },\n",
      "                        {\n",
      "                            \"name\": \"DRR\",\n",
      "                            \"description\": \"Difference in Rejection Rates (DRR)\",\n",
      "                            \"value\": -0.09313725490196079\n",
      "                        },\n",
      "                        {\n",
      "                            \"name\": \"FT\",\n",
      "                            \"description\": \"Flip Test (FT)\",\n",
      "                            \"value\": -0.10661764705882353\n",
      "                        },\n",
      "                        {\n",
      "                            \"name\": \"RD\",\n",
      "                            \"description\": \"Recall Difference (RD)\",\n",
      "                            \"value\": 0.01200000000000001\n",
      "                        },\n",
      "                        {\n",
      "                            \"name\": \"TE\",\n",
      "                            \"description\": \"Treatment Equality (TE)\",\n",
      "                            \"value\": 0.09090909090909088\n",
      "                        }\n",
      "                    ]\n",
      "                }\n",
      "            ]\n",
      "        },\n",
      "        \"label_value_or_threshold\": \"1\"\n",
      "    },\n",
      "    \"pre_training_bias_metrics\": {\n",
      "        \"label\": \"credit_risk\",\n",
      "        \"facets\": {\n",
      "            \"age\": [\n",
      "                {\n",
      "                    \"value_or_threshold\": \"(40, 75]\",\n",
      "                    \"metrics\": [\n",
      "                        {\n",
      "                            \"name\": \"CDDL\",\n",
      "                            \"description\": \"Conditional Demographic Disparity in Labels (CDDL)\",\n",
      "                            \"value\": -0.03536483909471117\n",
      "                        },\n",
      "                        {\n",
      "                            \"name\": \"CI\",\n",
      "                            \"description\": \"Class Imbalance (CI)\",\n",
      "                            \"value\": 0.456\n",
      "                        },\n",
      "                        {\n",
      "                            \"name\": \"DPL\",\n",
      "                            \"description\": \"Difference in Positive Proportions in Labels (DPL)\",\n",
      "                            \"value\": -0.04848093083387206\n",
      "                        },\n",
      "                        {\n",
      "                            \"name\": \"JS\",\n",
      "                            \"description\": \"Jensen-Shannon Divergence (JS)\",\n",
      "                            \"value\": 0.001431263938464945\n",
      "                        },\n",
      "                        {\n",
      "                            \"name\": \"KL\",\n",
      "                            \"description\": \"Kullback-Liebler Divergence (KL)\",\n",
      "                            \"value\": 0.005825598048527517\n",
      "                        },\n",
      "                        {\n",
      "                            \"name\": \"KS\",\n",
      "                            \"description\": \"Kolmogorov-Smirnov Distance (KS)\",\n",
      "                            \"value\": 0.04848093083387206\n",
      "                        },\n",
      "                        {\n",
      "                            \"name\": \"LP\",\n",
      "                            \"description\": \"L-p Norm (LP)\",\n",
      "                            \"value\": 0.06856238990173379\n",
      "                        },\n",
      "                        {\n",
      "                            \"name\": \"TVD\",\n",
      "                            \"description\": \"Total Variation Distance (TVD)\",\n",
      "                            \"value\": 0.04848093083387203\n",
      "                        }\n",
      "                    ]\n",
      "                }\n",
      "            ]\n",
      "        },\n",
      "        \"label_value_or_threshold\": \"1\"\n",
      "    }\u001b[0m\n",
      "\u001b[34m}\u001b[0m\n",
      "\u001b[34mINFO:analyzer.system_util:exit_message: Completed: SageMaker XAI Analyzer ran successfully\u001b[0m\n",
      "\u001b[34m-------!\u001b[0m\n",
      "\n"
     ]
    }
   ],
   "source": [
    "clarify_processor.run_bias(data_config=bias_data_config,\n",
    "                           bias_config=bias_config,\n",
    "                           model_config=model_config,\n",
    "                           model_predicted_label_config=predictions_config,\n",
    "                           pre_training_methods='all',\n",
    "                           post_training_methods='all')"
   ]
  },
  {
   "cell_type": "markdown",
   "metadata": {},
   "source": [
    "#### Viewing the Bias detection Report\n",
    "You can view the bis detection report in Studio under the experiments tab \n",
    "\n",
    "If you're not a Studio user yet,  you can access this report at the following S3 bucket."
   ]
  },
  {
   "cell_type": "code",
   "execution_count": null,
   "metadata": {},
   "outputs": [],
   "source": [
    "bias_report_output_path"
   ]
  },
  {
   "cell_type": "markdown",
   "metadata": {},
   "source": [
    "### Clean Up\n",
    "Finally, don't forget to clean up the resources we set up and used for this demo!"
   ]
  },
  {
   "cell_type": "code",
   "execution_count": null,
   "metadata": {},
   "outputs": [],
   "source": [
    "session.delete_endpoint(endpoint_name)"
   ]
  },
  {
   "cell_type": "code",
   "execution_count": null,
   "metadata": {},
   "outputs": [],
   "source": [
    "session.delete_model(model_name)"
   ]
  }
 ],
 "metadata": {
  "instance_type": "ml.t3.medium",
  "kernelspec": {
   "display_name": "Python 3 (Data Science)",
   "language": "python",
   "name": "python3__SAGEMAKER_INTERNAL__arn:aws:sagemaker:eu-west-1:470317259841:image/datascience-1.0"
  },
  "language_info": {
   "codemirror_mode": {
    "name": "ipython",
    "version": 3
   },
   "file_extension": ".py",
   "mimetype": "text/x-python",
   "name": "python",
   "nbconvert_exporter": "python",
   "pygments_lexer": "ipython3",
   "version": "3.7.6"
  }
 },
 "nbformat": 4,
 "nbformat_minor": 4
}
